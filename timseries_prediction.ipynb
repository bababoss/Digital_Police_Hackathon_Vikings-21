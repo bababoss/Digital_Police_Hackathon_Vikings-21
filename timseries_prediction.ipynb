{
 "cells": [
  {
   "cell_type": "code",
   "execution_count": 1,
   "metadata": {},
   "outputs": [],
   "source": [
    "%store -r full_dataset"
   ]
  },
  {
   "cell_type": "code",
   "execution_count": 6,
   "metadata": {},
   "outputs": [],
   "source": [
    "accident_report = full_dataset['tbl_tr_accident_report']['tbl_TR_Accident_report']"
   ]
  },
  {
   "cell_type": "code",
   "execution_count": 7,
   "metadata": {},
   "outputs": [
    {
     "data": {
      "text/plain": [
       "Index(['Unit_ID', 'Crime_No', 'Accident_DateTime', 'Fatal_NonFatal',\n",
       "       'Accident_Classification', 'Severity', 'Collision_Type',\n",
       "       'Accident_Spot', 'Accident_Location', 'Accident_Zone',\n",
       "       'NoOfVehicle_Involved', 'Junction_Control', 'Road_Character',\n",
       "       'Road_Type', 'Road_Classification', 'Road_Width', 'Shoulder_Width',\n",
       "       'Seperation', 'Surface_Type', 'Surface_Condition', 'Road_Condition',\n",
       "       'weather', 'Location_Type', 'Main_Cause', 'Hit_Run', 'XY_Map',\n",
       "       'X_Value', 'AccidentLocation_Map', 'Collision_Diagram', 'Y_Value',\n",
       "       'Route', 'KM', 'HundredM', 'Node_Map', 'Node1', 'Node2',\n",
       "       'Accident_City', 'Accident_Road', 'Reporting_Officer', 'LandMark_First',\n",
       "       'LandMark_Second', 'Distance_LandMark_First',\n",
       "       'Distance_LandMark_Second', 'Junction_Second_Name',\n",
       "       'Distance_Second_Road', 'Research_Code', 'Accident_Description',\n",
       "       'Action_Special_Note', 'UserID', 'Inspection_Officer_Name',\n",
       "       'Inspection_Officer_Rank', 'Inspection_Officer_Code',\n",
       "       'Actual_DateOf_Occurance', 'FromDate_Of_Occurance',\n",
       "       'ToDate_Of_Occurance', 'Lane_Type', 'Road_Markings', 'Spot_Conditions',\n",
       "       'Date_Of_Filling', 'Highway_Patrol_No', 'Aid_Post_No',\n",
       "       'Aid_Post_Distance', 'Trauma_Care_Centre_No',\n",
       "       'Trauma_Care_Centre_Distance', 'Checked', 'Signage', 'Side_Walk',\n",
       "       'Modified_Unit_ID', 'Action_Flag', 'Sync_Id', 'Sync_Id_Old',\n",
       "       'NoOf_Animal_Injured', 'NoOf_Animal_Killed', 'DEDT',\n",
       "       'Accident_Location_id', 'NoOfMinorInjured', 'NoOfNonVehicle',\n",
       "       'RoadNumber', 'Chainage', 'SpeedLimit', 'Road_typeb', 'RoadJunction',\n",
       "       'Accident_spotb', 'PotHoles', 'SteepGradient', 'Footpath',\n",
       "       'FootBridgeSubway', 'ZebraCrossing', 'Collision_Typeb'],\n",
       "      dtype='object')"
      ]
     },
     "execution_count": 7,
     "metadata": {},
     "output_type": "execute_result"
    }
   ],
   "source": [
    "accident_report.keys()"
   ]
  },
  {
   "cell_type": "code",
   "execution_count": 13,
   "metadata": {},
   "outputs": [],
   "source": [
    "accident_report['year'] = accident_report['Actual_DateOf_Occurance'].dt.year\n",
    "accident_report['month'] = accident_report['Actual_DateOf_Occurance'].dt.month\n",
    "#accident_report['weekday'] = accident_report['Actual_DateOf_Occurance'].dt.weekday\n",
    "accident_report['day'] = accident_report['Actual_DateOf_Occurance'].dt.day\n",
    "accident_report['hour'] = accident_report['Actual_DateOf_Occurance'].dt.hour\n"
   ]
  },
  {
   "cell_type": "code",
   "execution_count": 28,
   "metadata": {},
   "outputs": [],
   "source": [
    "accident_report = accident_report[[\"year\", \"month\", \"day\", \"hour\"]]\n",
    "ymwdh = accident_report[accident_report[\"year\"] > 2014]\n",
    "ymwdh = ymwdh[ymwdh[\"year\"]<2019]"
   ]
  },
  {
   "cell_type": "code",
   "execution_count": 29,
   "metadata": {},
   "outputs": [],
   "source": [
    "ymwdh = ymwdh.groupby([\"year\", \"month\", \"day\", \"hour\"])"
   ]
  },
  {
   "cell_type": "code",
   "execution_count": 31,
   "metadata": {},
   "outputs": [],
   "source": [
    "#for key, item in ymwdh:\n",
    "#    print(ymwdh.get_group(key), \"\\n\")"
   ]
  },
  {
   "cell_type": "code",
   "execution_count": 39,
   "metadata": {},
   "outputs": [],
   "source": [
    "inout_df = ymwdh.size().reset_index(name=\"count\")"
   ]
  },
  {
   "cell_type": "code",
   "execution_count": 116,
   "metadata": {},
   "outputs": [],
   "source": [
    "y = ymwdh.size().tolist()"
   ]
  },
  {
   "cell_type": "code",
   "execution_count": 37,
   "metadata": {},
   "outputs": [],
   "source": [
    "#expected_cnt"
   ]
  },
  {
   "cell_type": "code",
   "execution_count": 85,
   "metadata": {},
   "outputs": [],
   "source": [
    "y = inout_df['count'].tolist()"
   ]
  },
  {
   "cell_type": "code",
   "execution_count": 44,
   "metadata": {},
   "outputs": [],
   "source": [
    "x = list(zip(\n",
    "            inout_df[\"year\"].tolist(),\n",
    "            inout_df[\"month\"].tolist(),\n",
    "            inout_df[\"day\"].tolist(),\n",
    "            inout_df[\"hour\"].tolist()    \n",
    "            ))"
   ]
  },
  {
   "cell_type": "code",
   "execution_count": 45,
   "metadata": {},
   "outputs": [
    {
     "data": {
      "text/plain": [
       "[(2015.0, 1.0, 1.0, 0.0), (2015.0, 1.0, 1.0, 1.0)]"
      ]
     },
     "execution_count": 45,
     "metadata": {},
     "output_type": "execute_result"
    }
   ],
   "source": [
    "total = len(x)\n",
    "\n",
    "test_size = 500\n",
    "train = np.array(x)[:-test_size]"
   ]
  },
  {
   "cell_type": "code",
   "execution_count": 47,
   "metadata": {},
   "outputs": [],
   "source": [
    "from sklearn.model_selection import train_test_split"
   ]
  },
  {
   "cell_type": "code",
   "execution_count": 48,
   "metadata": {},
   "outputs": [],
   "source": [
    "X_train, X_test, y_train, y_test = train_test_split(x, y, test_size=0.1, random_state=42)"
   ]
  },
  {
   "cell_type": "code",
   "execution_count": 51,
   "metadata": {},
   "outputs": [],
   "source": [
    "from sklearn.neural_network import MLPRegressor"
   ]
  },
  {
   "cell_type": "code",
   "execution_count": 52,
   "metadata": {},
   "outputs": [],
   "source": [
    "nn = MLPRegressor(\n",
    "    hidden_layer_sizes=(6,),  activation='relu', solver='adam', alpha=0.001, batch_size='auto',\n",
    "    learning_rate='constant', learning_rate_init=0.01, power_t=0.5, max_iter=1000, shuffle=True,\n",
    "    random_state=9, tol=0.0001, verbose=False, warm_start=False, momentum=0.9, nesterovs_momentum=True,\n",
    "    early_stopping=False, validation_fraction=0.1, beta_1=0.9, beta_2=0.999, epsilon=1e-08)\n"
   ]
  },
  {
   "cell_type": "code",
   "execution_count": 53,
   "metadata": {},
   "outputs": [],
   "source": [
    "n = nn.fit(X_train, y_train)"
   ]
  },
  {
   "cell_type": "code",
   "execution_count": 54,
   "metadata": {},
   "outputs": [],
   "source": [
    "test_y = nn.predict(X_test)"
   ]
  },
  {
   "cell_type": "code",
   "execution_count": 58,
   "metadata": {},
   "outputs": [],
   "source": [
    "test_y = [int(round(y)) for y in test_y]"
   ]
  },
  {
   "cell_type": "code",
   "execution_count": 188,
   "metadata": {},
   "outputs": [],
   "source": [
    "import matplotlib.pyplot as plt\n",
    "\n",
    "%matplotlib inline  "
   ]
  },
  {
   "cell_type": "code",
   "execution_count": 61,
   "metadata": {},
   "outputs": [
    {
     "data": {
      "image/png": "[encoded data removed]",
      "text/plain": [
       "<Figure size 432x288 with 1 Axes>"
      ]
     },
     "metadata": {},
     "output_type": "display_data"
    }
   ],
   "source": [
    "plt.plot(y_test)\n",
    "plt.plot(test_y)\n",
    "plt.show()"
   ]
  },
  {
   "cell_type": "code",
   "execution_count": 65,
   "metadata": {},
   "outputs": [],
   "source": [
    "#!pip install keras"
   ]
  },
  {
   "cell_type": "code",
   "execution_count": 66,
   "metadata": {},
   "outputs": [],
   "source": [
    "X_train = [list(elem) for elem in X_train]"
   ]
  },
  {
   "cell_type": "code",
   "execution_count": 69,
   "metadata": {},
   "outputs": [],
   "source": [
    "import numpy as np"
   ]
  },
  {
   "cell_type": "code",
   "execution_count": 70,
   "metadata": {},
   "outputs": [],
   "source": [
    "X_train = np.array(X_train)\n",
    "y_train = np.array(y_train)"
   ]
  },
  {
   "cell_type": "code",
   "execution_count": 75,
   "metadata": {},
   "outputs": [
    {
     "data": {
      "text/plain": [
       "<keras.callbacks.callbacks.History at 0x7f0e916022b0>"
      ]
     },
     "execution_count": 75,
     "metadata": {},
     "output_type": "execute_result"
    }
   ],
   "source": [
    "from numpy import array\n",
    "from keras.models import Sequential\n",
    "from keras.layers import Dense\n",
    "\n",
    "model = Sequential()\n",
    "model.add(Dense(20, activation='relu', input_dim=4))\n",
    "model.add(Dense(1))\n",
    "model.compile(optimizer='adam', loss='mse')\n",
    "model.fit(X_train, y_train, epochs=100, verbose=0)\n"
   ]
  },
  {
   "cell_type": "code",
   "execution_count": 76,
   "metadata": {},
   "outputs": [],
   "source": [
    "X_test = [list(elem) for elem in X_test]\n",
    "X_test = np.array(X_test)\n",
    "y_test = np.array(y_test)"
   ]
  },
  {
   "cell_type": "code",
   "execution_count": 77,
   "metadata": {},
   "outputs": [
    {
     "name": "stdout",
     "output_type": "stream",
     "text": [
      "[[8.176076 ]\n",
      " [2.5793889]\n",
      " [2.4871037]\n",
      " ...\n",
      " [7.1011024]\n",
      " [8.173947 ]\n",
      " [4.2589927]]\n"
     ]
    }
   ],
   "source": [
    "# demonstrate prediction\n",
    "yhat = model.predict(X_test, verbose=0)\n",
    "print(yhat)"
   ]
  },
  {
   "cell_type": "code",
   "execution_count": 84,
   "metadata": {},
   "outputs": [
    {
     "data": {
      "image/png": "[encoded data removed]",
      "text/plain": [
       "<Figure size 432x288 with 1 Axes>"
      ]
     },
     "metadata": {},
     "output_type": "display_data"
    },
    {
     "data": {
      "text/plain": [
       "<Figure size 1080x1296 with 0 Axes>"
      ]
     },
     "metadata": {},
     "output_type": "display_data"
    }
   ],
   "source": [
    "plt.plot(y_test)\n",
    "plt.plot(yhat)\n",
    "plt.figure(figsize=(15,18))\n",
    "plt.show()"
   ]
  },
  {
   "cell_type": "code",
   "execution_count": null,
   "metadata": {},
   "outputs": [],
   "source": []
  },
  {
   "cell_type": "code",
   "execution_count": null,
   "metadata": {},
   "outputs": [],
   "source": []
  },
  {
   "cell_type": "code",
   "execution_count": null,
   "metadata": {},
   "outputs": [],
   "source": []
  },
  {
   "cell_type": "code",
   "execution_count": null,
   "metadata": {},
   "outputs": [],
   "source": []
  },
  {
   "cell_type": "code",
   "execution_count": null,
   "metadata": {},
   "outputs": [],
   "source": [
    "import numpy\n",
    "import matplotlib.pyplot as plt\n",
    "import pandas\n",
    "import math\n",
    "from keras.models import Sequential\n",
    "from keras.layers import Dense\n",
    "from keras.layers import LSTM,GRU\n",
    "from sklearn.preprocessing import MinMaxScaler\n",
    "from sklearn.metrics import mean_squared_error"
   ]
  },
  {
   "cell_type": "code",
   "execution_count": 131,
   "metadata": {},
   "outputs": [],
   "source": [
    "from sklearn.preprocessing import MinMaxScaler\n",
    "y = ymwdh.size().tolist()\n",
    "y = np.array(y)\n"
   ]
  },
  {
   "cell_type": "code",
   "execution_count": 132,
   "metadata": {},
   "outputs": [
    {
     "data": {
      "text/plain": [
       "(31518,)"
      ]
     },
     "execution_count": 132,
     "metadata": {},
     "output_type": "execute_result"
    }
   ],
   "source": [
    "y.shape"
   ]
  },
  {
   "cell_type": "code",
   "execution_count": 133,
   "metadata": {},
   "outputs": [],
   "source": [
    "y = np.expand_dims(y, axis=1)"
   ]
  },
  {
   "cell_type": "code",
   "execution_count": null,
   "metadata": {},
   "outputs": [],
   "source": []
  },
  {
   "cell_type": "code",
   "execution_count": 175,
   "metadata": {},
   "outputs": [],
   "source": [
    "dataset = y[:500]"
   ]
  },
  {
   "cell_type": "code",
   "execution_count": 176,
   "metadata": {},
   "outputs": [
    {
     "data": {
      "text/plain": [
       "(31518, 1)"
      ]
     },
     "execution_count": 176,
     "metadata": {},
     "output_type": "execute_result"
    }
   ],
   "source": [
    "y.shape"
   ]
  },
  {
   "cell_type": "code",
   "execution_count": 177,
   "metadata": {
    "scrolled": true
   },
   "outputs": [],
   "source": [
    "scaler = MinMaxScaler(feature_range=(0, 1))\n",
    "dataset = scaler.fit_transform(dataset)"
   ]
  },
  {
   "cell_type": "code",
   "execution_count": null,
   "metadata": {},
   "outputs": [],
   "source": []
  },
  {
   "cell_type": "code",
   "execution_count": 178,
   "metadata": {},
   "outputs": [
    {
     "name": "stdout",
     "output_type": "stream",
     "text": [
      "335 165\n"
     ]
    }
   ],
   "source": [
    "train_size = int(len(dataset) * 0.67)\n",
    "test_size = len(dataset) - train_size\n",
    "train, test = dataset[0:train_size,:], dataset[train_size:len(dataset),:]\n",
    "print(len(train), len(test))"
   ]
  },
  {
   "cell_type": "code",
   "execution_count": 179,
   "metadata": {},
   "outputs": [],
   "source": [
    "def create_dataset(dataset, look_back=1):\n",
    "\tdataX, dataY = [], []\n",
    "\tfor i in range(len(dataset)-look_back-1):\n",
    "\t\ta = dataset[i:(i+look_back), 0]\n",
    "\t\tdataX.append(a)\n",
    "\t\tdataY.append(dataset[i + look_back, 0])\n",
    "\treturn np.array(dataX), np.array(dataY)"
   ]
  },
  {
   "cell_type": "code",
   "execution_count": 180,
   "metadata": {},
   "outputs": [],
   "source": [
    "look_back = 4\n",
    "trainX, trainY = create_dataset(train, look_back)\n",
    "testX, testY = create_dataset(test, look_back)"
   ]
  },
  {
   "cell_type": "code",
   "execution_count": 181,
   "metadata": {},
   "outputs": [],
   "source": [
    "trainX = np.reshape(trainX, (trainX.shape[0], 1, trainX.shape[1]))\n",
    "testX = np.reshape(testX, (testX.shape[0], 1, testX.shape[1]))"
   ]
  },
  {
   "cell_type": "code",
   "execution_count": 182,
   "metadata": {
    "scrolled": true
   },
   "outputs": [],
   "source": [
    "# create and fit the LSTM network\n",
    "model = Sequential()\n",
    "model.add(LSTM(4, input_shape=(1, look_back)))\n",
    "model.add(Dense(1))\n",
    "model.compile(loss='mean_squared_error', optimizer='adam')"
   ]
  },
  {
   "cell_type": "code",
   "execution_count": 183,
   "metadata": {
    "scrolled": true
   },
   "outputs": [
    {
     "name": "stdout",
     "output_type": "stream",
     "text": [
      "Epoch 1/100\n",
      " - 1s - loss: 0.0462\n",
      "Epoch 2/100\n",
      " - 1s - loss: 0.0317\n",
      "Epoch 3/100\n",
      " - 1s - loss: 0.0295\n",
      "Epoch 4/100\n",
      " - 1s - loss: 0.0289\n",
      "Epoch 5/100\n",
      " - 1s - loss: 0.0284\n",
      "Epoch 6/100\n",
      " - 1s - loss: 0.0284\n",
      "Epoch 7/100\n",
      " - 1s - loss: 0.0283\n",
      "Epoch 8/100\n",
      " - 1s - loss: 0.0281\n",
      "Epoch 9/100\n",
      " - 1s - loss: 0.0279\n",
      "Epoch 10/100\n",
      " - 1s - loss: 0.0282\n",
      "Epoch 11/100\n",
      " - 1s - loss: 0.0278\n",
      "Epoch 12/100\n",
      " - 1s - loss: 0.0280\n",
      "Epoch 13/100\n",
      " - 1s - loss: 0.0275\n",
      "Epoch 14/100\n",
      " - 1s - loss: 0.0278\n",
      "Epoch 15/100\n",
      " - 1s - loss: 0.0276\n",
      "Epoch 16/100\n",
      " - 1s - loss: 0.0279\n",
      "Epoch 17/100\n",
      " - 1s - loss: 0.0274\n",
      "Epoch 18/100\n",
      " - 1s - loss: 0.0273\n",
      "Epoch 19/100\n",
      " - 1s - loss: 0.0274\n",
      "Epoch 20/100\n",
      " - 1s - loss: 0.0271\n",
      "Epoch 21/100\n",
      " - 1s - loss: 0.0275\n",
      "Epoch 22/100\n",
      " - 1s - loss: 0.0271\n",
      "Epoch 23/100\n",
      " - 1s - loss: 0.0273\n",
      "Epoch 24/100\n",
      " - 1s - loss: 0.0272\n",
      "Epoch 25/100\n",
      " - 1s - loss: 0.0271\n",
      "Epoch 26/100\n",
      " - 1s - loss: 0.0268\n",
      "Epoch 27/100\n",
      " - 1s - loss: 0.0272\n",
      "Epoch 28/100\n",
      " - 1s - loss: 0.0272\n",
      "Epoch 29/100\n",
      " - 1s - loss: 0.0271\n",
      "Epoch 30/100\n",
      " - 1s - loss: 0.0268\n",
      "Epoch 31/100\n",
      " - 1s - loss: 0.0268\n",
      "Epoch 32/100\n",
      " - 1s - loss: 0.0268\n",
      "Epoch 33/100\n",
      " - 1s - loss: 0.0263\n",
      "Epoch 34/100\n",
      " - 1s - loss: 0.0269\n",
      "Epoch 35/100\n",
      " - 1s - loss: 0.0267\n",
      "Epoch 36/100\n",
      " - 1s - loss: 0.0266\n",
      "Epoch 37/100\n",
      " - 1s - loss: 0.0267\n",
      "Epoch 38/100\n",
      " - 1s - loss: 0.0265\n",
      "Epoch 39/100\n",
      " - 1s - loss: 0.0264\n",
      "Epoch 40/100\n",
      " - 1s - loss: 0.0264\n",
      "Epoch 41/100\n",
      " - 1s - loss: 0.0263\n",
      "Epoch 42/100\n",
      " - 1s - loss: 0.0263\n",
      "Epoch 43/100\n",
      " - 1s - loss: 0.0265\n",
      "Epoch 44/100\n",
      " - 1s - loss: 0.0261\n",
      "Epoch 45/100\n",
      " - 1s - loss: 0.0263\n",
      "Epoch 46/100\n",
      " - 1s - loss: 0.0262\n",
      "Epoch 47/100\n",
      " - 1s - loss: 0.0261\n",
      "Epoch 48/100\n",
      " - 1s - loss: 0.0261\n",
      "Epoch 49/100\n",
      " - 1s - loss: 0.0261\n",
      "Epoch 50/100\n",
      " - 1s - loss: 0.0262\n",
      "Epoch 51/100\n",
      " - 1s - loss: 0.0260\n",
      "Epoch 52/100\n",
      " - 1s - loss: 0.0263\n",
      "Epoch 53/100\n",
      " - 1s - loss: 0.0260\n",
      "Epoch 54/100\n",
      " - 1s - loss: 0.0261\n",
      "Epoch 55/100\n",
      " - 1s - loss: 0.0260\n",
      "Epoch 56/100\n",
      " - 1s - loss: 0.0259\n",
      "Epoch 57/100\n",
      " - 1s - loss: 0.0260\n",
      "Epoch 58/100\n",
      " - 1s - loss: 0.0256\n",
      "Epoch 59/100\n",
      " - 1s - loss: 0.0259\n",
      "Epoch 60/100\n",
      " - 1s - loss: 0.0258\n",
      "Epoch 61/100\n",
      " - 1s - loss: 0.0259\n",
      "Epoch 62/100\n",
      " - 1s - loss: 0.0259\n",
      "Epoch 63/100\n",
      " - 1s - loss: 0.0259\n",
      "Epoch 64/100\n",
      " - 1s - loss: 0.0258\n",
      "Epoch 65/100\n",
      " - 1s - loss: 0.0258\n",
      "Epoch 66/100\n",
      " - 1s - loss: 0.0258\n",
      "Epoch 67/100\n",
      " - 1s - loss: 0.0253\n",
      "Epoch 68/100\n",
      " - 1s - loss: 0.0260\n",
      "Epoch 69/100\n",
      " - 1s - loss: 0.0256\n",
      "Epoch 70/100\n",
      " - 1s - loss: 0.0256\n",
      "Epoch 71/100\n",
      " - 1s - loss: 0.0257\n",
      "Epoch 72/100\n",
      " - 1s - loss: 0.0257\n",
      "Epoch 73/100\n",
      " - 1s - loss: 0.0256\n",
      "Epoch 74/100\n",
      " - 1s - loss: 0.0258\n",
      "Epoch 75/100\n",
      " - 1s - loss: 0.0256\n",
      "Epoch 76/100\n",
      " - 1s - loss: 0.0256\n",
      "Epoch 77/100\n",
      " - 1s - loss: 0.0257\n",
      "Epoch 78/100\n",
      " - 1s - loss: 0.0258\n",
      "Epoch 79/100\n",
      " - 1s - loss: 0.0256\n",
      "Epoch 80/100\n",
      " - 1s - loss: 0.0252\n",
      "Epoch 81/100\n",
      " - 1s - loss: 0.0259\n",
      "Epoch 82/100\n",
      " - 1s - loss: 0.0255\n",
      "Epoch 83/100\n",
      " - 1s - loss: 0.0254\n",
      "Epoch 84/100\n",
      " - 1s - loss: 0.0255\n",
      "Epoch 85/100\n",
      " - 1s - loss: 0.0255\n",
      "Epoch 86/100\n",
      " - 1s - loss: 0.0257\n",
      "Epoch 87/100\n",
      " - 1s - loss: 0.0255\n",
      "Epoch 88/100\n",
      " - 1s - loss: 0.0252\n",
      "Epoch 89/100\n",
      " - 1s - loss: 0.0253\n",
      "Epoch 90/100\n",
      " - 1s - loss: 0.0257\n",
      "Epoch 91/100\n",
      " - 1s - loss: 0.0255\n",
      "Epoch 92/100\n",
      " - 1s - loss: 0.0254\n",
      "Epoch 93/100\n",
      " - 1s - loss: 0.0254\n",
      "Epoch 94/100\n",
      " - 1s - loss: 0.0253\n",
      "Epoch 95/100\n",
      " - 1s - loss: 0.0254\n",
      "Epoch 96/100\n",
      " - 1s - loss: 0.0255\n",
      "Epoch 97/100\n",
      " - 1s - loss: 0.0255\n",
      "Epoch 98/100\n",
      " - 1s - loss: 0.0256\n",
      "Epoch 99/100\n",
      " - 1s - loss: 0.0255\n",
      "Epoch 100/100\n",
      " - 1s - loss: 0.0254\n"
     ]
    },
    {
     "data": {
      "text/plain": [
       "<keras.callbacks.callbacks.History at 0x7f0defdc0f98>"
      ]
     },
     "execution_count": 183,
     "metadata": {},
     "output_type": "execute_result"
    }
   ],
   "source": [
    "model.fit(trainX, trainY, epochs=100, batch_size=1, verbose=2)"
   ]
  },
  {
   "cell_type": "code",
   "execution_count": 184,
   "metadata": {},
   "outputs": [],
   "source": [
    "trainPredict = model.predict(trainX)\n",
    "testPredict = model.predict(testX)"
   ]
  },
  {
   "cell_type": "code",
   "execution_count": null,
   "metadata": {},
   "outputs": [],
   "source": []
  },
  {
   "cell_type": "code",
   "execution_count": 185,
   "metadata": {},
   "outputs": [
    {
     "name": "stdout",
     "output_type": "stream",
     "text": [
      "Train Score: 2.53 RMSE\n",
      "Test Score: 2.72 RMSE\n"
     ]
    }
   ],
   "source": [
    "trainPredict = scaler.inverse_transform(trainPredict)\n",
    "trainY = scaler.inverse_transform([trainY])\n",
    "testPredict = scaler.inverse_transform(testPredict)\n",
    "testY = scaler.inverse_transform([testY])\n",
    "# calculate root mean squared error\n",
    "trainScore = math.sqrt(mean_squared_error(trainY[0], trainPredict[:,0]))\n",
    "print('Train Score: %.2f RMSE' % (trainScore))\n",
    "testScore = math.sqrt(mean_squared_error(testY[0], testPredict[:,0]))\n",
    "print('Test Score: %.2f RMSE' % (testScore))"
   ]
  },
  {
   "cell_type": "code",
   "execution_count": 186,
   "metadata": {},
   "outputs": [],
   "source": [
    "import numpy"
   ]
  },
  {
   "cell_type": "code",
   "execution_count": 202,
   "metadata": {},
   "outputs": [],
   "source": [
    "plt.rcParams['figure.figsize'] = [15, 10]"
   ]
  },
  {
   "cell_type": "code",
   "execution_count": 214,
   "metadata": {},
   "outputs": [
    {
     "data": {
      "image/png": "[encoded data removed]",
      "text/plain": [
       "<Figure size 1080x720 with 1 Axes>"
      ]
     },
     "metadata": {},
     "output_type": "display_data"
    },
    {
     "data": {
      "text/plain": [
       "<Figure size 3600x3600 with 0 Axes>"
      ]
     },
     "metadata": {},
     "output_type": "display_data"
    }
   ],
   "source": [
    "# shift train predictions for plotting\n",
    "plt.title(\"Hourly prediction of accidents\")\n",
    "trainPredictPlot = numpy.empty_like(dataset)\n",
    "trainPredictPlot[:, :] = numpy.nan\n",
    "trainPredictPlot[look_back:len(trainPredict)+look_back, :] = trainPredict\n",
    "# shift test predictions for plotting\n",
    "testPredictPlot = numpy.empty_like(dataset)\n",
    "testPredictPlot[:, :] = numpy.nan\n",
    "testPredictPlot[len(trainPredict)+(look_back*2)+1:len(dataset)-1, :] = testPredict\n",
    "# plot baseline and predictions\n",
    "plt.plot(scaler.inverse_transform(dataset), label=\"actual data\", color=\"pink\")\n",
    "plt.plot(trainPredictPlot, label='training', color=\"black\")\n",
    "plt.plot(testPredictPlot, label='future prediction', color=\"green\")\n",
    "plt.legend()\n",
    "plt.figure(figsize=(50,50))\n",
    "\n",
    "\n",
    "#from matplotlib.pyplot import figure\n",
    "#figure(num=None, figsize=(18, 14), dpi=80, facecolor='w', edgecolor='k')\n",
    "#figure(figsize=(1,1))\n",
    "# fig=plt.figure(figsize=(24, 18), dpi= 80, facecolor='w', edgecolor='k')\n",
    "\n",
    "plt.show()"
   ]
  },
  {
   "cell_type": "code",
   "execution_count": null,
   "metadata": {},
   "outputs": [],
   "source": []
  },
  {
   "cell_type": "code",
   "execution_count": null,
   "metadata": {},
   "outputs": [],
   "source": []
  },
  {
   "cell_type": "code",
   "execution_count": null,
   "metadata": {},
   "outputs": [],
   "source": []
  },
  {
   "cell_type": "code",
   "execution_count": null,
   "metadata": {},
   "outputs": [],
   "source": []
  },
  {
   "cell_type": "code",
   "execution_count": null,
   "metadata": {},
   "outputs": [],
   "source": []
  },
  {
   "cell_type": "code",
   "execution_count": null,
   "metadata": {},
   "outputs": [],
   "source": []
  },
  {
   "cell_type": "code",
   "execution_count": null,
   "metadata": {},
   "outputs": [],
   "source": []
  },
  {
   "cell_type": "code",
   "execution_count": 233,
   "metadata": {},
   "outputs": [
    {
     "name": "stderr",
     "output_type": "stream",
     "text": [
      "/home/ubuntu/anaconda3/lib/python3.6/site-packages/IPython/core/interactiveshell.py:2785: DtypeWarning: Columns (115,116) have mixed types. Specify dtype option on import or set low_memory=False.\n",
      "  interactivity=interactivity, compiler=compiler, result=result)\n"
     ]
    }
   ],
   "source": [
    "#accident_report_new = full_dataset['tbl_tr_accident_report']['tbl_TR_Accident_report']\n",
    "accident_report_new = pd.read_csv('accidents_report.csv')"
   ]
  },
  {
   "cell_type": "code",
   "execution_count": 234,
   "metadata": {},
   "outputs": [
    {
     "data": {
      "text/plain": [
       "Index(['Unnamed: 0', 'Unit_ID', 'Crime_No', 'Accident_DateTime',\n",
       "       'Fatal_NonFatal', 'Accident_Classification', 'Severity',\n",
       "       'Collision_Type', 'Accident_Spot', 'Accident_Location',\n",
       "       ...\n",
       "       'Hit_Run_val', 'Accident_City_val', 'Accident_Road_val',\n",
       "       'Lane_Type_val', 'Road_Markings_val', 'Spot_Conditions_val',\n",
       "       'Side_Walk_val', 'Accident_Location_id_val', 'RoadJunction_val',\n",
       "       'Accident_spotb_val'],\n",
       "      dtype='object', length=117)"
      ]
     },
     "execution_count": 234,
     "metadata": {},
     "output_type": "execute_result"
    }
   ],
   "source": [
    "accident_report_new.keys()"
   ]
  },
  {
   "cell_type": "code",
   "execution_count": 240,
   "metadata": {},
   "outputs": [],
   "source": [
    "acc_grpd = accident_report_new.groupby([\"Lane_Type_val\", \"Severity_val\"]).size().unstack('Severity_val')"
   ]
  },
  {
   "cell_type": "code",
   "execution_count": 241,
   "metadata": {},
   "outputs": [
    {
     "data": {
      "text/html": [
       "<div>\n",
       "<style scoped>\n",
       "    .dataframe tbody tr th:only-of-type {\n",
       "        vertical-align: middle;\n",
       "    }\n",
       "\n",
       "    .dataframe tbody tr th {\n",
       "        vertical-align: top;\n",
       "    }\n",
       "\n",
       "    .dataframe thead th {\n",
       "        text-align: right;\n",
       "    }\n",
       "</style>\n",
       "<table border=\"1\" class=\"dataframe\">\n",
       "  <thead>\n",
       "    <tr style=\"text-align: right;\">\n",
       "      <th>Severity_val</th>\n",
       "      <th>MINER</th>\n",
       "      <th>Damage Only</th>\n",
       "      <th>Fatal</th>\n",
       "      <th>Grievous Injury</th>\n",
       "      <th>Not Applicable</th>\n",
       "      <th>Simple Injury</th>\n",
       "    </tr>\n",
       "    <tr>\n",
       "      <th>Lane_Type_val</th>\n",
       "      <th></th>\n",
       "      <th></th>\n",
       "      <th></th>\n",
       "      <th></th>\n",
       "      <th></th>\n",
       "      <th></th>\n",
       "    </tr>\n",
       "  </thead>\n",
       "  <tbody>\n",
       "    <tr>\n",
       "      <th>DualLane</th>\n",
       "      <td>1.0</td>\n",
       "      <td>1381.0</td>\n",
       "      <td>2334.0</td>\n",
       "      <td>4838.0</td>\n",
       "      <td>259.0</td>\n",
       "      <td>3439.0</td>\n",
       "    </tr>\n",
       "    <tr>\n",
       "      <th>FourLane</th>\n",
       "      <td>NaN</td>\n",
       "      <td>373.0</td>\n",
       "      <td>493.0</td>\n",
       "      <td>685.0</td>\n",
       "      <td>53.0</td>\n",
       "      <td>688.0</td>\n",
       "    </tr>\n",
       "    <tr>\n",
       "      <th>Intermediate</th>\n",
       "      <td>NaN</td>\n",
       "      <td>12.0</td>\n",
       "      <td>22.0</td>\n",
       "      <td>44.0</td>\n",
       "      <td>7.0</td>\n",
       "      <td>71.0</td>\n",
       "    </tr>\n",
       "    <tr>\n",
       "      <th>Others</th>\n",
       "      <td>NaN</td>\n",
       "      <td>539.0</td>\n",
       "      <td>1397.0</td>\n",
       "      <td>3073.0</td>\n",
       "      <td>332.0</td>\n",
       "      <td>2229.0</td>\n",
       "    </tr>\n",
       "    <tr>\n",
       "      <th>SingleLane</th>\n",
       "      <td>NaN</td>\n",
       "      <td>593.0</td>\n",
       "      <td>1272.0</td>\n",
       "      <td>3249.0</td>\n",
       "      <td>135.0</td>\n",
       "      <td>2105.0</td>\n",
       "    </tr>\n",
       "    <tr>\n",
       "      <th>SixLane</th>\n",
       "      <td>NaN</td>\n",
       "      <td>68.0</td>\n",
       "      <td>79.0</td>\n",
       "      <td>93.0</td>\n",
       "      <td>6.0</td>\n",
       "      <td>134.0</td>\n",
       "    </tr>\n",
       "  </tbody>\n",
       "</table>\n",
       "</div>"
      ],
      "text/plain": [
       "Severity_val    MINER                                     Damage Only   Fatal  \\\n",
       "Lane_Type_val                                                                   \n",
       "DualLane                                             1.0       1381.0  2334.0   \n",
       "FourLane                                             NaN        373.0   493.0   \n",
       "Intermediate                                         NaN         12.0    22.0   \n",
       "Others                                               NaN        539.0  1397.0   \n",
       "SingleLane                                           NaN        593.0  1272.0   \n",
       "SixLane                                              NaN         68.0    79.0   \n",
       "\n",
       "Severity_val   Grievous Injury  Not Applicable  Simple Injury  \n",
       "Lane_Type_val                                                  \n",
       "DualLane                4838.0           259.0         3439.0  \n",
       "FourLane                 685.0            53.0          688.0  \n",
       "Intermediate              44.0             7.0           71.0  \n",
       "Others                  3073.0           332.0         2229.0  \n",
       "SingleLane              3249.0           135.0         2105.0  \n",
       "SixLane                   93.0             6.0          134.0  "
      ]
     },
     "execution_count": 241,
     "metadata": {},
     "output_type": "execute_result"
    }
   ],
   "source": [
    "acc_grpd"
   ]
  },
  {
   "cell_type": "code",
   "execution_count": 245,
   "metadata": {},
   "outputs": [
    {
     "data": {
      "text/plain": [
       "'{\"[\"DualLane\",\" MINER                                   \"]\":1,\"[\"DualLane\",\"Damage Only\"]\":1381,\"[\"DualLane\",\"Fatal\"]\":2334,\"[\"DualLane\",\"Grievous Injury\"]\":4838,\"[\"DualLane\",\"Not Applicable\"]\":259,\"[\"DualLane\",\"Simple Injury\"]\":3439,\"[\"FourLane\",\"Damage Only\"]\":373,\"[\"FourLane\",\"Fatal\"]\":493,\"[\"FourLane\",\"Grievous Injury\"]\":685,\"[\"FourLane\",\"Not Applicable\"]\":53,\"[\"FourLane\",\"Simple Injury\"]\":688,\"[\"Intermediate\",\"Damage Only\"]\":12,\"[\"Intermediate\",\"Fatal\"]\":22,\"[\"Intermediate\",\"Grievous Injury\"]\":44,\"[\"Intermediate\",\"Not Applicable\"]\":7,\"[\"Intermediate\",\"Simple Injury\"]\":71,\"[\"Others\",\"Damage Only\"]\":539,\"[\"Others\",\"Fatal\"]\":1397,\"[\"Others\",\"Grievous Injury\"]\":3073,\"[\"Others\",\"Not Applicable\"]\":332,\"[\"Others\",\"Simple Injury\"]\":2229,\"[\"SingleLane\",\"Damage Only\"]\":593,\"[\"SingleLane\",\"Fatal\"]\":1272,\"[\"SingleLane\",\"Grievous Injury\"]\":3249,\"[\"SingleLane\",\"Not Applicable\"]\":135,\"[\"SingleLane\",\"Simple Injury\"]\":2105,\"[\"SixLane\",\"Damage Only\"]\":68,\"[\"SixLane\",\"Fatal\"]\":79,\"[\"SixLane\",\"Grievous Injury\"]\":93,\"[\"SixLane\",\"Not Applicable\"]\":6,\"[\"SixLane\",\"Simple Injury\"]\":134}'"
      ]
     },
     "execution_count": 245,
     "metadata": {},
     "output_type": "execute_result"
    }
   ],
   "source": [
    "accident_report_new.groupby([\"Lane_Type_val\", \"Severity_val\"]).size().to_json()"
   ]
  },
  {
   "cell_type": "code",
   "execution_count": 248,
   "metadata": {},
   "outputs": [
    {
     "data": {
      "text/plain": [
       "'{\"[\"DualLane\",\" MINER                                   \"]\":1,\"[\"DualLane\",\"Damage Only\"]\":1381,\"[\"DualLane\",\"Fatal\"]\":2334,\"[\"DualLane\",\"Grievous Injury\"]\":4838,\"[\"DualLane\",\"Not Applicable\"]\":259,\"[\"DualLane\",\"Simple Injury\"]\":3439,\"[\"FourLane\",\"Damage Only\"]\":373,\"[\"FourLane\",\"Fatal\"]\":493,\"[\"FourLane\",\"Grievous Injury\"]\":685,\"[\"FourLane\",\"Not Applicable\"]\":53,\"[\"FourLane\",\"Simple Injury\"]\":688,\"[\"Intermediate\",\"Damage Only\"]\":12,\"[\"Intermediate\",\"Fatal\"]\":22,\"[\"Intermediate\",\"Grievous Injury\"]\":44,\"[\"Intermediate\",\"Not Applicable\"]\":7,\"[\"Intermediate\",\"Simple Injury\"]\":71,\"[\"Others\",\"Damage Only\"]\":539,\"[\"Others\",\"Fatal\"]\":1397,\"[\"Others\",\"Grievous Injury\"]\":3073,\"[\"Others\",\"Not Applicable\"]\":332,\"[\"Others\",\"Simple Injury\"]\":2229,\"[\"SingleLane\",\"Damage Only\"]\":593,\"[\"SingleLane\",\"Fatal\"]\":1272,\"[\"SingleLane\",\"Grievous Injury\"]\":3249,\"[\"SingleLane\",\"Not Applicable\"]\":135,\"[\"SingleLane\",\"Simple Injury\"]\":2105,\"[\"SixLane\",\"Damage Only\"]\":68,\"[\"SixLane\",\"Fatal\"]\":79,\"[\"SixLane\",\"Grievous Injury\"]\":93,\"[\"SixLane\",\"Not Applicable\"]\":6,\"[\"SixLane\",\"Simple Injury\"]\":134}'"
      ]
     },
     "execution_count": 248,
     "metadata": {},
     "output_type": "execute_result"
    }
   ],
   "source": [
    "accident_report_new.groupby([\"Lane_Type_val\", \"Severity_val\"]).size().to_json()"
   ]
  },
  {
   "cell_type": "code",
   "execution_count": null,
   "metadata": {},
   "outputs": [],
   "source": []
  }
 ],
 "metadata": {
  "kernelspec": {
   "display_name": "almondaiEnv",
   "language": "python",
   "name": "almondaienv"
  },
  "language_info": {
   "codemirror_mode": {
    "name": "ipython",
    "version": 3
   },
   "file_extension": ".py",
   "mimetype": "text/x-python",
   "name": "python",
   "nbconvert_exporter": "python",
   "pygments_lexer": "ipython3",
   "version": "3.6.5"
  }
 },
 "nbformat": 4,
 "nbformat_minor": 2
}
