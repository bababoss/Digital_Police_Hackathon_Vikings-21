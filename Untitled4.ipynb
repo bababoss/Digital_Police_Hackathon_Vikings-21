{
 "cells": [
  {
   "cell_type": "code",
   "execution_count": 500,
   "metadata": {},
   "outputs": [],
   "source": [
    "import pandas as pd\n",
    "import numpy as np\n",
    "from sklearn.ensemble import RandomForestClassifier, AdaBoostClassifier\n",
    "\n",
    "# Metrics & Corss-Validation\n",
    "from sklearn.model_selection import GridSearchCV, train_test_split\n",
    "from sklearn.externals import joblib\n",
    "from sklearn.metrics import (accuracy_score, precision_score, recall_score, f1_score,\n",
    "                             fbeta_score, make_scorer, classification_report, confusion_matrix)"
   ]
  },
  {
   "cell_type": "code",
   "execution_count": 501,
   "metadata": {},
   "outputs": [],
   "source": [
    "%store -r full_dataset"
   ]
  },
  {
   "cell_type": "code",
   "execution_count": 502,
   "metadata": {},
   "outputs": [
    {
     "data": {
      "text/plain": [
       "dict_keys(['TBL_TR_Accident_Driver', 'tbl_CR_Victim_Info', 'TBL_TR_Offence_details', 'tbl_TR_Offence', 'TBL_TR_Person_Details', 'TBL_TR_Accident_Casualties', 'tbl_CR_FIR_Details', 'Masters', 'TR_Accident_Vehicle', 'TBL_TR_Offence_Master', 'tbl_tr_accident_report', 'tbl_CR_Arr_Person_Details', 'TR_Accident_Vehicle_Master'])"
      ]
     },
     "execution_count": 502,
     "metadata": {},
     "output_type": "execute_result"
    }
   ],
   "source": [
    "full_dataset.keys()"
   ]
  },
  {
   "cell_type": "code",
   "execution_count": 503,
   "metadata": {},
   "outputs": [],
   "source": [
    "fir = full_dataset['tbl_CR_FIR_Details']['tbl_CR_FIR_Details']"
   ]
  },
  {
   "cell_type": "code",
   "execution_count": 504,
   "metadata": {},
   "outputs": [
    {
     "data": {
      "text/html": [
       "<div>\n",
       "<style scoped>\n",
       "    .dataframe tbody tr th:only-of-type {\n",
       "        vertical-align: middle;\n",
       "    }\n",
       "\n",
       "    .dataframe tbody tr th {\n",
       "        vertical-align: top;\n",
       "    }\n",
       "\n",
       "    .dataframe thead th {\n",
       "        text-align: right;\n",
       "    }\n",
       "</style>\n",
       "<table border=\"1\" class=\"dataframe\">\n",
       "  <thead>\n",
       "    <tr style=\"text-align: right;\">\n",
       "      <th></th>\n",
       "      <th>FIR_ID</th>\n",
       "      <th>Unit_ID</th>\n",
       "      <th>Crime_No</th>\n",
       "      <th>CCIS_Crime_No</th>\n",
       "      <th>FIR_Entry_Type</th>\n",
       "      <th>Offence_From_Date</th>\n",
       "      <th>Offence_To_Date</th>\n",
       "      <th>FIR_Category</th>\n",
       "      <th>FIR_Date</th>\n",
       "      <th>Delay_Reason</th>\n",
       "      <th>...</th>\n",
       "      <th>Action_Flag</th>\n",
       "      <th>Sync_Id</th>\n",
       "      <th>Sync_Id_Old</th>\n",
       "      <th>DEDT</th>\n",
       "      <th>Insert_KGSC</th>\n",
       "      <th>Update_KGSC</th>\n",
       "      <th>GSC_No</th>\n",
       "      <th>FIR_Submitted_dt</th>\n",
       "      <th>Dispatch_Juvenile_Court_Id</th>\n",
       "      <th>key</th>\n",
       "    </tr>\n",
       "  </thead>\n",
       "  <tbody>\n",
       "    <tr>\n",
       "      <th>0</th>\n",
       "      <td>2014000001</td>\n",
       "      <td>57</td>\n",
       "      <td>10973005720140001</td>\n",
       "      <td>NaN</td>\n",
       "      <td>1</td>\n",
       "      <td>2014-01-01 00:15:00</td>\n",
       "      <td>2014-01-01 00:15:00</td>\n",
       "      <td>2</td>\n",
       "      <td>2014-01-01 01:00:00</td>\n",
       "      <td>NaN</td>\n",
       "      <td>...</td>\n",
       "      <td>N</td>\n",
       "      <td>-1</td>\n",
       "      <td>-1</td>\n",
       "      <td>2014-01-01 01:42:24.687</td>\n",
       "      <td>1</td>\n",
       "      <td>1</td>\n",
       "      <td>PO0057140100001</td>\n",
       "      <td>2014-01-01 01:54:14.520</td>\n",
       "      <td>NaN</td>\n",
       "      <td>572014000001</td>\n",
       "    </tr>\n",
       "    <tr>\n",
       "      <th>1</th>\n",
       "      <td>2014000001</td>\n",
       "      <td>58</td>\n",
       "      <td>10973005820140001</td>\n",
       "      <td>NaN</td>\n",
       "      <td>1</td>\n",
       "      <td>2014-01-01 01:30:00</td>\n",
       "      <td>2014-01-01 01:30:00</td>\n",
       "      <td>2</td>\n",
       "      <td>2014-01-01 03:30:00</td>\n",
       "      <td>NaN</td>\n",
       "      <td>...</td>\n",
       "      <td>N</td>\n",
       "      <td>-1</td>\n",
       "      <td>-1</td>\n",
       "      <td>2014-01-01 19:22:16.687</td>\n",
       "      <td>1</td>\n",
       "      <td>1</td>\n",
       "      <td>PO0058140100001</td>\n",
       "      <td>2014-01-02 08:00:01.783</td>\n",
       "      <td>NaN</td>\n",
       "      <td>582014000001</td>\n",
       "    </tr>\n",
       "    <tr>\n",
       "      <th>2</th>\n",
       "      <td>2014000001</td>\n",
       "      <td>59</td>\n",
       "      <td>10973005920140001</td>\n",
       "      <td>NaN</td>\n",
       "      <td>1</td>\n",
       "      <td>2013-12-31 19:30:00</td>\n",
       "      <td>2013-12-31 19:30:00</td>\n",
       "      <td>2</td>\n",
       "      <td>2014-01-01 16:30:00</td>\n",
       "      <td>ಗಾಯಾಳುಗಳಿಬ್ಬರಿಗೂ ಆಸ್ಪತ್ರೆಯಲ್ಲಿ ಚಿಕಿತ್ಸೆ ಕೊಡಿಸು...</td>\n",
       "      <td>...</td>\n",
       "      <td>N</td>\n",
       "      <td>-1</td>\n",
       "      <td>-1</td>\n",
       "      <td>2014-01-01 17:24:41.970</td>\n",
       "      <td>1</td>\n",
       "      <td>1</td>\n",
       "      <td>PO0059140100001</td>\n",
       "      <td>2014-01-01 19:38:54.880</td>\n",
       "      <td>NaN</td>\n",
       "      <td>592014000001</td>\n",
       "    </tr>\n",
       "    <tr>\n",
       "      <th>3</th>\n",
       "      <td>2014000001</td>\n",
       "      <td>119</td>\n",
       "      <td>10438011920140001</td>\n",
       "      <td>NaN</td>\n",
       "      <td>1</td>\n",
       "      <td>2014-01-01 15:00:00</td>\n",
       "      <td>2014-01-01 15:00:00</td>\n",
       "      <td>2</td>\n",
       "      <td>2014-01-01 16:30:00</td>\n",
       "      <td>NaN</td>\n",
       "      <td>...</td>\n",
       "      <td>N</td>\n",
       "      <td>-1</td>\n",
       "      <td>-1</td>\n",
       "      <td>2014-01-01 19:54:39.833</td>\n",
       "      <td>1</td>\n",
       "      <td>1</td>\n",
       "      <td>PO0119140100001</td>\n",
       "      <td>2014-01-01 20:08:45.137</td>\n",
       "      <td>NaN</td>\n",
       "      <td>1192014000001</td>\n",
       "    </tr>\n",
       "    <tr>\n",
       "      <th>4</th>\n",
       "      <td>2014000001</td>\n",
       "      <td>138</td>\n",
       "      <td>10439013820140001</td>\n",
       "      <td>NaN</td>\n",
       "      <td>1</td>\n",
       "      <td>2014-01-05 11:30:00</td>\n",
       "      <td>2014-01-05 11:30:00</td>\n",
       "      <td>2</td>\n",
       "      <td>2014-01-05 13:30:00</td>\n",
       "      <td>No</td>\n",
       "      <td>...</td>\n",
       "      <td>N</td>\n",
       "      <td>-1</td>\n",
       "      <td>-1</td>\n",
       "      <td>2014-01-05 21:11:59.307</td>\n",
       "      <td>1</td>\n",
       "      <td>1</td>\n",
       "      <td>PO0138140100001</td>\n",
       "      <td>2014-01-05 21:15:10.500</td>\n",
       "      <td>NaN</td>\n",
       "      <td>1382014000001</td>\n",
       "    </tr>\n",
       "  </tbody>\n",
       "</table>\n",
       "<p>5 rows × 87 columns</p>\n",
       "</div>"
      ],
      "text/plain": [
       "       FIR_ID  Unit_ID           Crime_No  CCIS_Crime_No  FIR_Entry_Type  \\\n",
       "0  2014000001       57  10973005720140001            NaN               1   \n",
       "1  2014000001       58  10973005820140001            NaN               1   \n",
       "2  2014000001       59  10973005920140001            NaN               1   \n",
       "3  2014000001      119  10438011920140001            NaN               1   \n",
       "4  2014000001      138  10439013820140001            NaN               1   \n",
       "\n",
       "    Offence_From_Date     Offence_To_Date  FIR_Category            FIR_Date  \\\n",
       "0 2014-01-01 00:15:00 2014-01-01 00:15:00             2 2014-01-01 01:00:00   \n",
       "1 2014-01-01 01:30:00 2014-01-01 01:30:00             2 2014-01-01 03:30:00   \n",
       "2 2013-12-31 19:30:00 2013-12-31 19:30:00             2 2014-01-01 16:30:00   \n",
       "3 2014-01-01 15:00:00 2014-01-01 15:00:00             2 2014-01-01 16:30:00   \n",
       "4 2014-01-05 11:30:00 2014-01-05 11:30:00             2 2014-01-05 13:30:00   \n",
       "\n",
       "                                        Delay_Reason  ...  Action_Flag  \\\n",
       "0                                                NaN  ...            N   \n",
       "1                                                NaN  ...            N   \n",
       "2  ಗಾಯಾಳುಗಳಿಬ್ಬರಿಗೂ ಆಸ್ಪತ್ರೆಯಲ್ಲಿ ಚಿಕಿತ್ಸೆ ಕೊಡಿಸು...  ...            N   \n",
       "3                                                NaN  ...            N   \n",
       "4                                                 No  ...            N   \n",
       "\n",
       "  Sync_Id  Sync_Id_Old                    DEDT Insert_KGSC  Update_KGSC  \\\n",
       "0      -1           -1 2014-01-01 01:42:24.687           1            1   \n",
       "1      -1           -1 2014-01-01 19:22:16.687           1            1   \n",
       "2      -1           -1 2014-01-01 17:24:41.970           1            1   \n",
       "3      -1           -1 2014-01-01 19:54:39.833           1            1   \n",
       "4      -1           -1 2014-01-05 21:11:59.307           1            1   \n",
       "\n",
       "            GSC_No        FIR_Submitted_dt  Dispatch_Juvenile_Court_Id  \\\n",
       "0  PO0057140100001 2014-01-01 01:54:14.520                         NaN   \n",
       "1  PO0058140100001 2014-01-02 08:00:01.783                         NaN   \n",
       "2  PO0059140100001 2014-01-01 19:38:54.880                         NaN   \n",
       "3  PO0119140100001 2014-01-01 20:08:45.137                         NaN   \n",
       "4  PO0138140100001 2014-01-05 21:15:10.500                         NaN   \n",
       "\n",
       "             key  \n",
       "0   572014000001  \n",
       "1   582014000001  \n",
       "2   592014000001  \n",
       "3  1192014000001  \n",
       "4  1382014000001  \n",
       "\n",
       "[5 rows x 87 columns]"
      ]
     },
     "execution_count": 504,
     "metadata": {},
     "output_type": "execute_result"
    }
   ],
   "source": [
    "fir.head()"
   ]
  },
  {
   "cell_type": "code",
   "execution_count": 505,
   "metadata": {},
   "outputs": [
    {
     "name": "stderr",
     "output_type": "stream",
     "text": [
      "/home/ubuntu/anaconda3/lib/python3.6/site-packages/IPython/core/interactiveshell.py:2785: DtypeWarning: Columns (43,44) have mixed types. Specify dtype option on import or set low_memory=False.\n",
      "  interactivity=interactivity, compiler=compiler, result=result)\n"
     ]
    }
   ],
   "source": [
    "accidents = pd.read_csv('accident_cleaned.csv')"
   ]
  },
  {
   "cell_type": "code",
   "execution_count": 506,
   "metadata": {},
   "outputs": [
    {
     "data": {
      "text/plain": [
       "Index(['FIR_ID', 'Unit_ID', 'Crime_No', 'CCIS_Crime_No', 'FIR_Entry_Type',\n",
       "       'Offence_From_Date', 'Offence_To_Date', 'FIR_Category', 'FIR_Date',\n",
       "       'Delay_Reason', 'Complaint_Mode', 'Info_PS_Date', 'GD_No', 'Address1',\n",
       "       'Address2', 'City', 'State_ID', 'PIN_Code', 'Beat_ID',\n",
       "       'Village_Area_ID', 'Direction_Distance', 'Other_PS_State',\n",
       "       'Other_PS_District', 'Other_PS_Limit_ID', 'UD_Case_No', 'Brief_Facts',\n",
       "       'Action_Taken', 'Transfered_Unit_ID', 'Transfer_Details',\n",
       "       'Dispatch_Court_ID', 'Dispatch_Court_Date', 'Dispatch_Officer_ID',\n",
       "       'Dispatch_Officer_Rank', 'FIR_Type', 'FIR_Status', 'FIR_Stage',\n",
       "       'UserID', 'FIR_Read_Explained', 'Reason_Decline_Investigation',\n",
       "       'Occurence_Place_ID', 'Latitude', 'Longitude', 'Request_Status',\n",
       "       'FIR_Read', 'FIR_Read_Date', 'Copy_To', 'Goonda_Act_case', 'TADA_Case',\n",
       "       'NSA_Case', 'Case_AgainstPP', 'Firing_Case', 'Lathi_Charge_case',\n",
       "       'Tear_Gas', 'Arrest_Date', 'Firing_Type', 'Agitation', 'False_Reason',\n",
       "       'Agitation_Lathy', 'CRPC_Disposal_Date', 'Magistrate_Number',\n",
       "       'Magistrate_date', 'CRPC_Disposal_Remarks', 'Draft', 'With_By_Gov_INV',\n",
       "       'With_By_Gov_Trial', 'Converted_FIR', 'UDRcase_No', 'IOCode', 'IOName',\n",
       "       'GD_Time', 'CCIS_Property', 'CCIS_UD_Ref', 'CCIS_TotPropertyValue',\n",
       "       'missing_disp_upload', 'Trans_Status', 'ForeignerAddress',\n",
       "       'Modified_Unit_ID', 'Action_Flag', 'Sync_Id', 'Sync_Id_Old', 'DEDT',\n",
       "       'Insert_KGSC', 'Update_KGSC', 'GSC_No', 'FIR_Submitted_dt',\n",
       "       'Dispatch_Juvenile_Court_Id', 'key'],\n",
       "      dtype='object')"
      ]
     },
     "execution_count": 506,
     "metadata": {},
     "output_type": "execute_result"
    }
   ],
   "source": [
    "fir.columns"
   ]
  },
  {
   "cell_type": "code",
   "execution_count": 507,
   "metadata": {},
   "outputs": [
    {
     "data": {
      "text/plain": [
       "Index(['Unnamed: 0', 'Unit_ID', 'Crime_No', 'NoOfVehicle_Involved',\n",
       "       'Accident_Road', 'Accident_Description', 'UserID',\n",
       "       'NoOf_Animal_Injured', 'NoOf_Animal_Killed', 'DEDT', 'NoOfMinorInjured',\n",
       "       'NoOfNonVehicle', 'RoadNumber', 'SpeedLimit', 'Road_typeb',\n",
       "       'SteepGradient', 'Footpath', 'Collision_Typeb', 'Fatal_NonFatal_val',\n",
       "       'Accident_Classification_val', 'Severity_val', 'Collision_Type_val',\n",
       "       'Accident_Spot_val', 'Accident_Location_val', 'Junction_Control_val',\n",
       "       'Road_Character_val', 'Road_Type_val', 'Road_Classification_val',\n",
       "       'Seperation_val', 'Surface_Type_val', 'Surface_Condition_val',\n",
       "       'Road_Condition_val', 'weather_val', 'Location_Type_val',\n",
       "       'Main_Cause_val', 'Hit_Run_val', 'Accident_City_val',\n",
       "       'Accident_Road_val', 'Lane_Type_val', 'Road_Markings_val',\n",
       "       'Spot_Conditions_val', 'Side_Walk_val', 'Accident_Location_id_val',\n",
       "       'RoadJunction_val', 'Accident_spotb_val'],\n",
       "      dtype='object')"
      ]
     },
     "execution_count": 507,
     "metadata": {},
     "output_type": "execute_result"
    }
   ],
   "source": [
    "accidents.columns"
   ]
  },
  {
   "cell_type": "code",
   "execution_count": 508,
   "metadata": {},
   "outputs": [],
   "source": [
    "accidents_df = accidents.loc[:,['Unit_ID', 'Crime_No','weather_val','Road_Condition_val','Spot_Conditions_val','Surface_Condition_val']]"
   ]
  },
  {
   "cell_type": "code",
   "execution_count": 509,
   "metadata": {},
   "outputs": [
    {
     "name": "stderr",
     "output_type": "stream",
     "text": [
      "/home/ubuntu/anaconda3/lib/python3.6/site-packages/IPython/core/interactiveshell.py:2785: DtypeWarning: Columns (115,116) have mixed types. Specify dtype option on import or set low_memory=False.\n",
      "  interactivity=interactivity, compiler=compiler, result=result)\n"
     ]
    }
   ],
   "source": [
    "acc_old = pd.read_csv('accidents_report.csv')"
   ]
  },
  {
   "cell_type": "code",
   "execution_count": 510,
   "metadata": {},
   "outputs": [
    {
     "data": {
      "text/plain": [
       "Index(['Inspection_Officer_Name', 'Inspection_Officer_Rank',\n",
       "       'Inspection_Officer_Code', 'Actual_DateOf_Occurance',\n",
       "       'FromDate_Of_Occurance', 'ToDate_Of_Occurance', 'Lane_Type',\n",
       "       'Road_Markings', 'Spot_Conditions', 'Date_Of_Filling',\n",
       "       'Highway_Patrol_No', 'Aid_Post_No', 'Aid_Post_Distance',\n",
       "       'Trauma_Care_Centre_No', 'Trauma_Care_Centre_Distance', 'Checked',\n",
       "       'Signage', 'Side_Walk', 'Modified_Unit_ID', 'Action_Flag', 'Sync_Id',\n",
       "       'Sync_Id_Old', 'NoOf_Animal_Injured', 'NoOf_Animal_Killed', 'DEDT',\n",
       "       'Accident_Location_id', 'NoOfMinorInjured', 'NoOfNonVehicle',\n",
       "       'RoadNumber', 'Chainage'],\n",
       "      dtype='object')"
      ]
     },
     "execution_count": 510,
     "metadata": {},
     "output_type": "execute_result"
    }
   ],
   "source": [
    "acc_old.columns[50:80]"
   ]
  },
  {
   "cell_type": "code",
   "execution_count": 511,
   "metadata": {},
   "outputs": [],
   "source": [
    "acc_old = acc_old.loc[:,['Unit_ID', 'Crime_No','Actual_DateOf_Occurance']]"
   ]
  },
  {
   "cell_type": "code",
   "execution_count": 512,
   "metadata": {},
   "outputs": [
    {
     "data": {
      "text/html": [
       "<div>\n",
       "<style scoped>\n",
       "    .dataframe tbody tr th:only-of-type {\n",
       "        vertical-align: middle;\n",
       "    }\n",
       "\n",
       "    .dataframe tbody tr th {\n",
       "        vertical-align: top;\n",
       "    }\n",
       "\n",
       "    .dataframe thead th {\n",
       "        text-align: right;\n",
       "    }\n",
       "</style>\n",
       "<table border=\"1\" class=\"dataframe\">\n",
       "  <thead>\n",
       "    <tr style=\"text-align: right;\">\n",
       "      <th></th>\n",
       "      <th>Unit_ID</th>\n",
       "      <th>Crime_No</th>\n",
       "      <th>Actual_DateOf_Occurance</th>\n",
       "    </tr>\n",
       "  </thead>\n",
       "  <tbody>\n",
       "    <tr>\n",
       "      <th>0</th>\n",
       "      <td>857</td>\n",
       "      <td>2015000096</td>\n",
       "      <td>2015-07-04 19:30:00.000</td>\n",
       "    </tr>\n",
       "    <tr>\n",
       "      <th>1</th>\n",
       "      <td>613</td>\n",
       "      <td>2015000098</td>\n",
       "      <td>2015-07-09 23:40:00.000</td>\n",
       "    </tr>\n",
       "    <tr>\n",
       "      <th>2</th>\n",
       "      <td>1898</td>\n",
       "      <td>2015000101</td>\n",
       "      <td>2015-08-29 12:30:00.000</td>\n",
       "    </tr>\n",
       "    <tr>\n",
       "      <th>3</th>\n",
       "      <td>1461</td>\n",
       "      <td>2015000102</td>\n",
       "      <td>2015-04-11 16:30:00.000</td>\n",
       "    </tr>\n",
       "    <tr>\n",
       "      <th>4</th>\n",
       "      <td>1911</td>\n",
       "      <td>2015000104</td>\n",
       "      <td>2015-08-09 08:35:00.000</td>\n",
       "    </tr>\n",
       "  </tbody>\n",
       "</table>\n",
       "</div>"
      ],
      "text/plain": [
       "   Unit_ID    Crime_No  Actual_DateOf_Occurance\n",
       "0      857  2015000096  2015-07-04 19:30:00.000\n",
       "1      613  2015000098  2015-07-09 23:40:00.000\n",
       "2     1898  2015000101  2015-08-29 12:30:00.000\n",
       "3     1461  2015000102  2015-04-11 16:30:00.000\n",
       "4     1911  2015000104  2015-08-09 08:35:00.000"
      ]
     },
     "execution_count": 512,
     "metadata": {},
     "output_type": "execute_result"
    }
   ],
   "source": [
    "acc_old.head()"
   ]
  },
  {
   "cell_type": "code",
   "execution_count": 513,
   "metadata": {},
   "outputs": [],
   "source": [
    "acc_old['key'] = acc_old['Unit_ID'].map(str)+acc_old['Crime_No'].map(str)"
   ]
  },
  {
   "cell_type": "code",
   "execution_count": 514,
   "metadata": {},
   "outputs": [],
   "source": [
    "accidents_df['key'] = accidents_df['Unit_ID'].map(str)+accidents_df['Crime_No'].map(str)"
   ]
  },
  {
   "cell_type": "code",
   "execution_count": 515,
   "metadata": {},
   "outputs": [],
   "source": [
    "df_merge = pd.merge(accidents_df, acc_old, on='key')"
   ]
  },
  {
   "cell_type": "code",
   "execution_count": 516,
   "metadata": {},
   "outputs": [
    {
     "data": {
      "text/html": [
       "<div>\n",
       "<style scoped>\n",
       "    .dataframe tbody tr th:only-of-type {\n",
       "        vertical-align: middle;\n",
       "    }\n",
       "\n",
       "    .dataframe tbody tr th {\n",
       "        vertical-align: top;\n",
       "    }\n",
       "\n",
       "    .dataframe thead th {\n",
       "        text-align: right;\n",
       "    }\n",
       "</style>\n",
       "<table border=\"1\" class=\"dataframe\">\n",
       "  <thead>\n",
       "    <tr style=\"text-align: right;\">\n",
       "      <th></th>\n",
       "      <th>Unit_ID_x</th>\n",
       "      <th>Crime_No_x</th>\n",
       "      <th>weather_val</th>\n",
       "      <th>Road_Condition_val</th>\n",
       "      <th>Spot_Conditions_val</th>\n",
       "      <th>Surface_Condition_val</th>\n",
       "      <th>key</th>\n",
       "      <th>Unit_ID_y</th>\n",
       "      <th>Crime_No_y</th>\n",
       "      <th>Actual_DateOf_Occurance</th>\n",
       "    </tr>\n",
       "  </thead>\n",
       "  <tbody>\n",
       "    <tr>\n",
       "      <th>0</th>\n",
       "      <td>857</td>\n",
       "      <td>2015000096</td>\n",
       "      <td>Not Applicable</td>\n",
       "      <td>Not Applicable</td>\n",
       "      <td>NaN</td>\n",
       "      <td>Not Applicable</td>\n",
       "      <td>8572015000096</td>\n",
       "      <td>857</td>\n",
       "      <td>2015000096</td>\n",
       "      <td>2015-07-04 19:30:00.000</td>\n",
       "    </tr>\n",
       "    <tr>\n",
       "      <th>1</th>\n",
       "      <td>613</td>\n",
       "      <td>2015000098</td>\n",
       "      <td>Fine</td>\n",
       "      <td>Not Applicable</td>\n",
       "      <td>NaN</td>\n",
       "      <td>Dry</td>\n",
       "      <td>6132015000098</td>\n",
       "      <td>613</td>\n",
       "      <td>2015000098</td>\n",
       "      <td>2015-07-09 23:40:00.000</td>\n",
       "    </tr>\n",
       "    <tr>\n",
       "      <th>2</th>\n",
       "      <td>1898</td>\n",
       "      <td>2015000101</td>\n",
       "      <td>Clear</td>\n",
       "      <td>Not Applicable</td>\n",
       "      <td>NaN</td>\n",
       "      <td>Dry</td>\n",
       "      <td>18982015000101</td>\n",
       "      <td>1898</td>\n",
       "      <td>2015000101</td>\n",
       "      <td>2015-08-29 12:30:00.000</td>\n",
       "    </tr>\n",
       "    <tr>\n",
       "      <th>3</th>\n",
       "      <td>1461</td>\n",
       "      <td>2015000102</td>\n",
       "      <td>Fine</td>\n",
       "      <td>Not Applicable</td>\n",
       "      <td>NaN</td>\n",
       "      <td>Dry</td>\n",
       "      <td>14612015000102</td>\n",
       "      <td>1461</td>\n",
       "      <td>2015000102</td>\n",
       "      <td>2015-04-11 16:30:00.000</td>\n",
       "    </tr>\n",
       "    <tr>\n",
       "      <th>4</th>\n",
       "      <td>1911</td>\n",
       "      <td>2015000104</td>\n",
       "      <td>Others</td>\n",
       "      <td>Not Applicable</td>\n",
       "      <td>NaN</td>\n",
       "      <td>Not Applicable</td>\n",
       "      <td>19112015000104</td>\n",
       "      <td>1911</td>\n",
       "      <td>2015000104</td>\n",
       "      <td>2015-08-09 08:35:00.000</td>\n",
       "    </tr>\n",
       "  </tbody>\n",
       "</table>\n",
       "</div>"
      ],
      "text/plain": [
       "   Unit_ID_x  Crime_No_x     weather_val Road_Condition_val  \\\n",
       "0        857  2015000096  Not Applicable     Not Applicable   \n",
       "1        613  2015000098            Fine     Not Applicable   \n",
       "2       1898  2015000101           Clear     Not Applicable   \n",
       "3       1461  2015000102            Fine     Not Applicable   \n",
       "4       1911  2015000104          Others     Not Applicable   \n",
       "\n",
       "  Spot_Conditions_val Surface_Condition_val             key  Unit_ID_y  \\\n",
       "0                 NaN        Not Applicable   8572015000096        857   \n",
       "1                 NaN                   Dry   6132015000098        613   \n",
       "2                 NaN                   Dry  18982015000101       1898   \n",
       "3                 NaN                   Dry  14612015000102       1461   \n",
       "4                 NaN        Not Applicable  19112015000104       1911   \n",
       "\n",
       "   Crime_No_y  Actual_DateOf_Occurance  \n",
       "0  2015000096  2015-07-04 19:30:00.000  \n",
       "1  2015000098  2015-07-09 23:40:00.000  \n",
       "2  2015000101  2015-08-29 12:30:00.000  \n",
       "3  2015000102  2015-04-11 16:30:00.000  \n",
       "4  2015000104  2015-08-09 08:35:00.000  "
      ]
     },
     "execution_count": 516,
     "metadata": {},
     "output_type": "execute_result"
    }
   ],
   "source": [
    "df_merge.head()"
   ]
  },
  {
   "cell_type": "code",
   "execution_count": 517,
   "metadata": {},
   "outputs": [],
   "source": [
    "fir['key'] = fir['Unit_ID'].map(str)+fir['FIR_ID'].map(str)"
   ]
  },
  {
   "cell_type": "code",
   "execution_count": 518,
   "metadata": {},
   "outputs": [],
   "source": [
    "fir = fir.loc[:,['key','Latitude','Longitude']]"
   ]
  },
  {
   "cell_type": "code",
   "execution_count": 519,
   "metadata": {},
   "outputs": [
    {
     "data": {
      "text/html": [
       "<div>\n",
       "<style scoped>\n",
       "    .dataframe tbody tr th:only-of-type {\n",
       "        vertical-align: middle;\n",
       "    }\n",
       "\n",
       "    .dataframe tbody tr th {\n",
       "        vertical-align: top;\n",
       "    }\n",
       "\n",
       "    .dataframe thead th {\n",
       "        text-align: right;\n",
       "    }\n",
       "</style>\n",
       "<table border=\"1\" class=\"dataframe\">\n",
       "  <thead>\n",
       "    <tr style=\"text-align: right;\">\n",
       "      <th></th>\n",
       "      <th>key</th>\n",
       "      <th>Latitude</th>\n",
       "      <th>Longitude</th>\n",
       "    </tr>\n",
       "  </thead>\n",
       "  <tbody>\n",
       "    <tr>\n",
       "      <th>0</th>\n",
       "      <td>572014000001</td>\n",
       "      <td>NaN</td>\n",
       "      <td>NaN</td>\n",
       "    </tr>\n",
       "    <tr>\n",
       "      <th>1</th>\n",
       "      <td>582014000001</td>\n",
       "      <td>NaN</td>\n",
       "      <td>NaN</td>\n",
       "    </tr>\n",
       "    <tr>\n",
       "      <th>2</th>\n",
       "      <td>592014000001</td>\n",
       "      <td>NaN</td>\n",
       "      <td>NaN</td>\n",
       "    </tr>\n",
       "    <tr>\n",
       "      <th>3</th>\n",
       "      <td>1192014000001</td>\n",
       "      <td>NaN</td>\n",
       "      <td>NaN</td>\n",
       "    </tr>\n",
       "    <tr>\n",
       "      <th>4</th>\n",
       "      <td>1382014000001</td>\n",
       "      <td>NaN</td>\n",
       "      <td>NaN</td>\n",
       "    </tr>\n",
       "  </tbody>\n",
       "</table>\n",
       "</div>"
      ],
      "text/plain": [
       "             key  Latitude  Longitude\n",
       "0   572014000001       NaN        NaN\n",
       "1   582014000001       NaN        NaN\n",
       "2   592014000001       NaN        NaN\n",
       "3  1192014000001       NaN        NaN\n",
       "4  1382014000001       NaN        NaN"
      ]
     },
     "execution_count": 519,
     "metadata": {},
     "output_type": "execute_result"
    }
   ],
   "source": [
    "fir.head()"
   ]
  },
  {
   "cell_type": "code",
   "execution_count": 520,
   "metadata": {},
   "outputs": [],
   "source": [
    "df_merge_final = pd.merge(df_merge, fir, on='key')"
   ]
  },
  {
   "cell_type": "code",
   "execution_count": 521,
   "metadata": {},
   "outputs": [
    {
     "data": {
      "text/html": [
       "<div>\n",
       "<style scoped>\n",
       "    .dataframe tbody tr th:only-of-type {\n",
       "        vertical-align: middle;\n",
       "    }\n",
       "\n",
       "    .dataframe tbody tr th {\n",
       "        vertical-align: top;\n",
       "    }\n",
       "\n",
       "    .dataframe thead th {\n",
       "        text-align: right;\n",
       "    }\n",
       "</style>\n",
       "<table border=\"1\" class=\"dataframe\">\n",
       "  <thead>\n",
       "    <tr style=\"text-align: right;\">\n",
       "      <th></th>\n",
       "      <th>Unit_ID_x</th>\n",
       "      <th>Crime_No_x</th>\n",
       "      <th>weather_val</th>\n",
       "      <th>Road_Condition_val</th>\n",
       "      <th>Spot_Conditions_val</th>\n",
       "      <th>Surface_Condition_val</th>\n",
       "      <th>key</th>\n",
       "      <th>Unit_ID_y</th>\n",
       "      <th>Crime_No_y</th>\n",
       "      <th>Actual_DateOf_Occurance</th>\n",
       "      <th>Latitude</th>\n",
       "      <th>Longitude</th>\n",
       "    </tr>\n",
       "  </thead>\n",
       "  <tbody>\n",
       "    <tr>\n",
       "      <th>0</th>\n",
       "      <td>857</td>\n",
       "      <td>2015000096</td>\n",
       "      <td>Not Applicable</td>\n",
       "      <td>Not Applicable</td>\n",
       "      <td>NaN</td>\n",
       "      <td>Not Applicable</td>\n",
       "      <td>8572015000096</td>\n",
       "      <td>857</td>\n",
       "      <td>2015000096</td>\n",
       "      <td>2015-07-04 19:30:00.000</td>\n",
       "      <td>NaN</td>\n",
       "      <td>NaN</td>\n",
       "    </tr>\n",
       "    <tr>\n",
       "      <th>1</th>\n",
       "      <td>613</td>\n",
       "      <td>2015000098</td>\n",
       "      <td>Fine</td>\n",
       "      <td>Not Applicable</td>\n",
       "      <td>NaN</td>\n",
       "      <td>Dry</td>\n",
       "      <td>6132015000098</td>\n",
       "      <td>613</td>\n",
       "      <td>2015000098</td>\n",
       "      <td>2015-07-09 23:40:00.000</td>\n",
       "      <td>NaN</td>\n",
       "      <td>NaN</td>\n",
       "    </tr>\n",
       "    <tr>\n",
       "      <th>2</th>\n",
       "      <td>1898</td>\n",
       "      <td>2015000101</td>\n",
       "      <td>Clear</td>\n",
       "      <td>Not Applicable</td>\n",
       "      <td>NaN</td>\n",
       "      <td>Dry</td>\n",
       "      <td>18982015000101</td>\n",
       "      <td>1898</td>\n",
       "      <td>2015000101</td>\n",
       "      <td>2015-08-29 12:30:00.000</td>\n",
       "      <td>NaN</td>\n",
       "      <td>NaN</td>\n",
       "    </tr>\n",
       "    <tr>\n",
       "      <th>3</th>\n",
       "      <td>1461</td>\n",
       "      <td>2015000102</td>\n",
       "      <td>Fine</td>\n",
       "      <td>Not Applicable</td>\n",
       "      <td>NaN</td>\n",
       "      <td>Dry</td>\n",
       "      <td>14612015000102</td>\n",
       "      <td>1461</td>\n",
       "      <td>2015000102</td>\n",
       "      <td>2015-04-11 16:30:00.000</td>\n",
       "      <td>NaN</td>\n",
       "      <td>NaN</td>\n",
       "    </tr>\n",
       "    <tr>\n",
       "      <th>4</th>\n",
       "      <td>1911</td>\n",
       "      <td>2015000104</td>\n",
       "      <td>Others</td>\n",
       "      <td>Not Applicable</td>\n",
       "      <td>NaN</td>\n",
       "      <td>Not Applicable</td>\n",
       "      <td>19112015000104</td>\n",
       "      <td>1911</td>\n",
       "      <td>2015000104</td>\n",
       "      <td>2015-08-09 08:35:00.000</td>\n",
       "      <td>NaN</td>\n",
       "      <td>NaN</td>\n",
       "    </tr>\n",
       "  </tbody>\n",
       "</table>\n",
       "</div>"
      ],
      "text/plain": [
       "   Unit_ID_x  Crime_No_x     weather_val Road_Condition_val  \\\n",
       "0        857  2015000096  Not Applicable     Not Applicable   \n",
       "1        613  2015000098            Fine     Not Applicable   \n",
       "2       1898  2015000101           Clear     Not Applicable   \n",
       "3       1461  2015000102            Fine     Not Applicable   \n",
       "4       1911  2015000104          Others     Not Applicable   \n",
       "\n",
       "  Spot_Conditions_val Surface_Condition_val             key  Unit_ID_y  \\\n",
       "0                 NaN        Not Applicable   8572015000096        857   \n",
       "1                 NaN                   Dry   6132015000098        613   \n",
       "2                 NaN                   Dry  18982015000101       1898   \n",
       "3                 NaN                   Dry  14612015000102       1461   \n",
       "4                 NaN        Not Applicable  19112015000104       1911   \n",
       "\n",
       "   Crime_No_y  Actual_DateOf_Occurance  Latitude  Longitude  \n",
       "0  2015000096  2015-07-04 19:30:00.000       NaN        NaN  \n",
       "1  2015000098  2015-07-09 23:40:00.000       NaN        NaN  \n",
       "2  2015000101  2015-08-29 12:30:00.000       NaN        NaN  \n",
       "3  2015000102  2015-04-11 16:30:00.000       NaN        NaN  \n",
       "4  2015000104  2015-08-09 08:35:00.000       NaN        NaN  "
      ]
     },
     "execution_count": 521,
     "metadata": {},
     "output_type": "execute_result"
    }
   ],
   "source": [
    "df_merge_final.head()"
   ]
  },
  {
   "cell_type": "code",
   "execution_count": 522,
   "metadata": {},
   "outputs": [],
   "source": [
    "df = df_merge_final.loc[:,['key','weather_val','Road_Condition_val','Spot_Conditions_val',\n",
    "                           'Surface_Condition_val','Actual_DateOf_Occurance','Latitude','Longitude']]"
   ]
  },
  {
   "cell_type": "code",
   "execution_count": 523,
   "metadata": {},
   "outputs": [
    {
     "data": {
      "text/plain": [
       "(193119, 8)"
      ]
     },
     "execution_count": 523,
     "metadata": {},
     "output_type": "execute_result"
    }
   ],
   "source": [
    "df.shape"
   ]
  },
  {
   "cell_type": "code",
   "execution_count": 524,
   "metadata": {},
   "outputs": [],
   "source": [
    "df = df[np.isfinite(df['Latitude'])]"
   ]
  },
  {
   "cell_type": "code",
   "execution_count": 525,
   "metadata": {},
   "outputs": [
    {
     "data": {
      "text/plain": [
       "(127913, 8)"
      ]
     },
     "execution_count": 525,
     "metadata": {},
     "output_type": "execute_result"
    }
   ],
   "source": [
    "df.shape"
   ]
  },
  {
   "cell_type": "code",
   "execution_count": 526,
   "metadata": {},
   "outputs": [],
   "source": [
    "df = df[np.isfinite(df['Longitude'])]"
   ]
  },
  {
   "cell_type": "code",
   "execution_count": 527,
   "metadata": {},
   "outputs": [],
   "source": [
    "df = df[df['Longitude']!=0]"
   ]
  },
  {
   "cell_type": "code",
   "execution_count": 528,
   "metadata": {},
   "outputs": [
    {
     "data": {
      "text/plain": [
       "(5468, 8)"
      ]
     },
     "execution_count": 528,
     "metadata": {},
     "output_type": "execute_result"
    }
   ],
   "source": [
    "df.shape"
   ]
  },
  {
   "cell_type": "code",
   "execution_count": 529,
   "metadata": {},
   "outputs": [],
   "source": [
    "def swap(row):\n",
    "    lat =  row['Latitude']\n",
    "    lon = row['Longitude']\n",
    "    if lat<1 or lon<1:\n",
    "        lat= lat*100\n",
    "        lon = lon*100\n",
    "    if lat>lon:\n",
    "        temp = lat\n",
    "        lat = lon\n",
    "        lon = temp\n",
    "    row['Latitude'] = lat\n",
    "    row['Longitude'] = lon\n",
    "    return row\n",
    "    "
   ]
  },
  {
   "cell_type": "code",
   "execution_count": 530,
   "metadata": {},
   "outputs": [],
   "source": [
    "df = df.apply(swap,axis=1)"
   ]
  },
  {
   "cell_type": "code",
   "execution_count": 531,
   "metadata": {},
   "outputs": [
    {
     "data": {
      "text/plain": [
       "Index(['key', 'weather_val', 'Road_Condition_val', 'Spot_Conditions_val',\n",
       "       'Surface_Condition_val', 'Actual_DateOf_Occurance', 'Latitude',\n",
       "       'Longitude'],\n",
       "      dtype='object')"
      ]
     },
     "execution_count": 531,
     "metadata": {},
     "output_type": "execute_result"
    }
   ],
   "source": [
    "df.columns"
   ]
  },
  {
   "cell_type": "code",
   "execution_count": 532,
   "metadata": {},
   "outputs": [],
   "source": [
    "road_val = df.Road_Condition_val.unique()"
   ]
  },
  {
   "cell_type": "code",
   "execution_count": 533,
   "metadata": {},
   "outputs": [],
   "source": [
    "spot_val = df.Spot_Conditions_val.unique()"
   ]
  },
  {
   "cell_type": "code",
   "execution_count": 534,
   "metadata": {},
   "outputs": [],
   "source": [
    "surface_val = df.Surface_Condition_val.unique()"
   ]
  },
  {
   "cell_type": "code",
   "execution_count": 535,
   "metadata": {},
   "outputs": [],
   "source": [
    "weather_list = df.weather_val.unique()"
   ]
  },
  {
   "cell_type": "code",
   "execution_count": 536,
   "metadata": {},
   "outputs": [],
   "source": [
    "df['Date'] = pd.to_datetime(df['Actual_DateOf_Occurance']) "
   ]
  },
  {
   "cell_type": "code",
   "execution_count": 537,
   "metadata": {},
   "outputs": [],
   "source": [
    "df['month'] = df['Date'].dt.month_name()"
   ]
  },
  {
   "cell_type": "code",
   "execution_count": 538,
   "metadata": {},
   "outputs": [],
   "source": [
    "df['weekend'] = np.where((df['Date'].dt.weekday==5)|(df['Date'].dt.weekday==6),1,0)"
   ]
  },
  {
   "cell_type": "code",
   "execution_count": 539,
   "metadata": {},
   "outputs": [],
   "source": [
    "def get_time(x):\n",
    "    if x>=4 and x<=8:\n",
    "        return 'morning'\n",
    "    if x>8 and x<=12:\n",
    "        return 'morning_rush'\n",
    "    if x>12 and x<=16:\n",
    "        return 'afternoon'\n",
    "    if x>16 and x<=19:\n",
    "        return 'evening'\n",
    "    if x>19 and x<=22:\n",
    "        return 'evening_rush'\n",
    "    return \"night\""
   ]
  },
  {
   "cell_type": "code",
   "execution_count": 540,
   "metadata": {},
   "outputs": [],
   "source": [
    "df['time'] = df['Date'].dt.hour.apply(get_time)"
   ]
  },
  {
   "cell_type": "code",
   "execution_count": 541,
   "metadata": {},
   "outputs": [
    {
     "data": {
      "text/html": [
       "<div>\n",
       "<style scoped>\n",
       "    .dataframe tbody tr th:only-of-type {\n",
       "        vertical-align: middle;\n",
       "    }\n",
       "\n",
       "    .dataframe tbody tr th {\n",
       "        vertical-align: top;\n",
       "    }\n",
       "\n",
       "    .dataframe thead th {\n",
       "        text-align: right;\n",
       "    }\n",
       "</style>\n",
       "<table border=\"1\" class=\"dataframe\">\n",
       "  <thead>\n",
       "    <tr style=\"text-align: right;\">\n",
       "      <th></th>\n",
       "      <th>key</th>\n",
       "      <th>weather_val</th>\n",
       "      <th>Road_Condition_val</th>\n",
       "      <th>Spot_Conditions_val</th>\n",
       "      <th>Surface_Condition_val</th>\n",
       "      <th>Actual_DateOf_Occurance</th>\n",
       "      <th>Latitude</th>\n",
       "      <th>Longitude</th>\n",
       "      <th>Date</th>\n",
       "      <th>month</th>\n",
       "      <th>weekend</th>\n",
       "      <th>time</th>\n",
       "    </tr>\n",
       "  </thead>\n",
       "  <tbody>\n",
       "    <tr>\n",
       "      <th>86</th>\n",
       "      <td>17792016000032</td>\n",
       "      <td>Fine</td>\n",
       "      <td>No influence on accident</td>\n",
       "      <td>NaN</td>\n",
       "      <td>Not Applicable</td>\n",
       "      <td>2016-02-18 10:30:00.000</td>\n",
       "      <td>13.035114</td>\n",
       "      <td>77.527796</td>\n",
       "      <td>2016-02-18 10:30:00</td>\n",
       "      <td>February</td>\n",
       "      <td>0</td>\n",
       "      <td>morning_rush</td>\n",
       "    </tr>\n",
       "    <tr>\n",
       "      <th>179</th>\n",
       "      <td>17822016000033</td>\n",
       "      <td>Clear</td>\n",
       "      <td>Not Applicable</td>\n",
       "      <td>NaN</td>\n",
       "      <td>Dry</td>\n",
       "      <td>2016-02-24 17:00:00.000</td>\n",
       "      <td>13.023613</td>\n",
       "      <td>77.534615</td>\n",
       "      <td>2016-02-24 17:00:00</td>\n",
       "      <td>February</td>\n",
       "      <td>0</td>\n",
       "      <td>evening</td>\n",
       "    </tr>\n",
       "    <tr>\n",
       "      <th>337</th>\n",
       "      <td>17792015000209</td>\n",
       "      <td>Fine</td>\n",
       "      <td>No influence on accident</td>\n",
       "      <td>NaN</td>\n",
       "      <td>Not Applicable</td>\n",
       "      <td>2015-12-13 11:30:00.000</td>\n",
       "      <td>13.065017</td>\n",
       "      <td>77.504298</td>\n",
       "      <td>2015-12-13 11:30:00</td>\n",
       "      <td>December</td>\n",
       "      <td>1</td>\n",
       "      <td>morning_rush</td>\n",
       "    </tr>\n",
       "    <tr>\n",
       "      <th>379</th>\n",
       "      <td>18962016000093</td>\n",
       "      <td>Others</td>\n",
       "      <td>Not Applicable</td>\n",
       "      <td>NaN</td>\n",
       "      <td>Dry</td>\n",
       "      <td>2016-04-28 17:30:00.000</td>\n",
       "      <td>12.535180</td>\n",
       "      <td>77.383426</td>\n",
       "      <td>2016-04-28 17:30:00</td>\n",
       "      <td>April</td>\n",
       "      <td>0</td>\n",
       "      <td>evening</td>\n",
       "    </tr>\n",
       "    <tr>\n",
       "      <th>912</th>\n",
       "      <td>17682015000046</td>\n",
       "      <td>Clear</td>\n",
       "      <td>Not Applicable</td>\n",
       "      <td>NaN</td>\n",
       "      <td>Dry</td>\n",
       "      <td>2015-09-25 05:10:00.000</td>\n",
       "      <td>13.004487</td>\n",
       "      <td>77.341705</td>\n",
       "      <td>2015-09-25 05:10:00</td>\n",
       "      <td>September</td>\n",
       "      <td>0</td>\n",
       "      <td>morning</td>\n",
       "    </tr>\n",
       "  </tbody>\n",
       "</table>\n",
       "</div>"
      ],
      "text/plain": [
       "                key weather_val        Road_Condition_val Spot_Conditions_val  \\\n",
       "86   17792016000032        Fine  No influence on accident                 NaN   \n",
       "179  17822016000033       Clear            Not Applicable                 NaN   \n",
       "337  17792015000209        Fine  No influence on accident                 NaN   \n",
       "379  18962016000093      Others            Not Applicable                 NaN   \n",
       "912  17682015000046       Clear            Not Applicable                 NaN   \n",
       "\n",
       "    Surface_Condition_val  Actual_DateOf_Occurance   Latitude  Longitude  \\\n",
       "86         Not Applicable  2016-02-18 10:30:00.000  13.035114  77.527796   \n",
       "179                   Dry  2016-02-24 17:00:00.000  13.023613  77.534615   \n",
       "337        Not Applicable  2015-12-13 11:30:00.000  13.065017  77.504298   \n",
       "379                   Dry  2016-04-28 17:30:00.000  12.535180  77.383426   \n",
       "912                   Dry  2015-09-25 05:10:00.000  13.004487  77.341705   \n",
       "\n",
       "                   Date      month  weekend          time  \n",
       "86  2016-02-18 10:30:00   February        0  morning_rush  \n",
       "179 2016-02-24 17:00:00   February        0       evening  \n",
       "337 2015-12-13 11:30:00   December        1  morning_rush  \n",
       "379 2016-04-28 17:30:00      April        0       evening  \n",
       "912 2015-09-25 05:10:00  September        0       morning  "
      ]
     },
     "execution_count": 541,
     "metadata": {},
     "output_type": "execute_result"
    }
   ],
   "source": [
    "df.head()"
   ]
  },
  {
   "cell_type": "code",
   "execution_count": 542,
   "metadata": {},
   "outputs": [
    {
     "data": {
      "text/plain": [
       "(5468, 12)"
      ]
     },
     "execution_count": 542,
     "metadata": {},
     "output_type": "execute_result"
    }
   ],
   "source": [
    "df.shape"
   ]
  },
  {
   "cell_type": "code",
   "execution_count": 543,
   "metadata": {},
   "outputs": [],
   "source": [
    "import random\n",
    "from numpy.random import choice\n",
    "time_val = ['morning','morning_rush','afternoon','evening','evening_rush','night']"
   ]
  },
  {
   "cell_type": "code",
   "execution_count": 544,
   "metadata": {},
   "outputs": [],
   "source": [
    "neg_sam = []\n",
    "for i in range(0,50000):\n",
    "    data = {}\n",
    "    data['weather_val'] = random.choice(weather_list)\n",
    "    data['Road_Condition_val'] = random.choice(weather_list)\n",
    "    data['Spot_Conditions_val'] = random.choice(spot_val)\n",
    "    data['Surface_Condition_val'] = random.choice(surface_val)\n",
    "    data['month'] = random.choice(df['month'].unique())\n",
    "    data['weekend'] = random.choice([0,1])\n",
    "    data['time'] = random.choice(time_val)\n",
    "    neg_sam.append(data)"
   ]
  },
  {
   "cell_type": "code",
   "execution_count": 545,
   "metadata": {},
   "outputs": [],
   "source": [
    "df_neg = pd.DataFrame(neg_sam)"
   ]
  },
  {
   "cell_type": "code",
   "execution_count": 546,
   "metadata": {},
   "outputs": [],
   "source": [
    "df_neg['accident'] = 0"
   ]
  },
  {
   "cell_type": "code",
   "execution_count": 547,
   "metadata": {},
   "outputs": [],
   "source": [
    "df['accident'] = 1"
   ]
  },
  {
   "cell_type": "code",
   "execution_count": 548,
   "metadata": {},
   "outputs": [],
   "source": [
    "df_train = df.drop(['key','Actual_DateOf_Occurance','Latitude','Longitude','Date'],axis=1)"
   ]
  },
  {
   "cell_type": "code",
   "execution_count": 549,
   "metadata": {},
   "outputs": [
    {
     "data": {
      "text/html": [
       "<div>\n",
       "<style scoped>\n",
       "    .dataframe tbody tr th:only-of-type {\n",
       "        vertical-align: middle;\n",
       "    }\n",
       "\n",
       "    .dataframe tbody tr th {\n",
       "        vertical-align: top;\n",
       "    }\n",
       "\n",
       "    .dataframe thead th {\n",
       "        text-align: right;\n",
       "    }\n",
       "</style>\n",
       "<table border=\"1\" class=\"dataframe\">\n",
       "  <thead>\n",
       "    <tr style=\"text-align: right;\">\n",
       "      <th></th>\n",
       "      <th>weather_val</th>\n",
       "      <th>Road_Condition_val</th>\n",
       "      <th>Spot_Conditions_val</th>\n",
       "      <th>Surface_Condition_val</th>\n",
       "      <th>month</th>\n",
       "      <th>weekend</th>\n",
       "      <th>time</th>\n",
       "      <th>accident</th>\n",
       "    </tr>\n",
       "  </thead>\n",
       "  <tbody>\n",
       "    <tr>\n",
       "      <th>86</th>\n",
       "      <td>Fine</td>\n",
       "      <td>No influence on accident</td>\n",
       "      <td>NaN</td>\n",
       "      <td>Not Applicable</td>\n",
       "      <td>February</td>\n",
       "      <td>0</td>\n",
       "      <td>morning_rush</td>\n",
       "      <td>1</td>\n",
       "    </tr>\n",
       "    <tr>\n",
       "      <th>179</th>\n",
       "      <td>Clear</td>\n",
       "      <td>Not Applicable</td>\n",
       "      <td>NaN</td>\n",
       "      <td>Dry</td>\n",
       "      <td>February</td>\n",
       "      <td>0</td>\n",
       "      <td>evening</td>\n",
       "      <td>1</td>\n",
       "    </tr>\n",
       "    <tr>\n",
       "      <th>337</th>\n",
       "      <td>Fine</td>\n",
       "      <td>No influence on accident</td>\n",
       "      <td>NaN</td>\n",
       "      <td>Not Applicable</td>\n",
       "      <td>December</td>\n",
       "      <td>1</td>\n",
       "      <td>morning_rush</td>\n",
       "      <td>1</td>\n",
       "    </tr>\n",
       "    <tr>\n",
       "      <th>379</th>\n",
       "      <td>Others</td>\n",
       "      <td>Not Applicable</td>\n",
       "      <td>NaN</td>\n",
       "      <td>Dry</td>\n",
       "      <td>April</td>\n",
       "      <td>0</td>\n",
       "      <td>evening</td>\n",
       "      <td>1</td>\n",
       "    </tr>\n",
       "    <tr>\n",
       "      <th>912</th>\n",
       "      <td>Clear</td>\n",
       "      <td>Not Applicable</td>\n",
       "      <td>NaN</td>\n",
       "      <td>Dry</td>\n",
       "      <td>September</td>\n",
       "      <td>0</td>\n",
       "      <td>morning</td>\n",
       "      <td>1</td>\n",
       "    </tr>\n",
       "  </tbody>\n",
       "</table>\n",
       "</div>"
      ],
      "text/plain": [
       "    weather_val        Road_Condition_val Spot_Conditions_val  \\\n",
       "86         Fine  No influence on accident                 NaN   \n",
       "179       Clear            Not Applicable                 NaN   \n",
       "337        Fine  No influence on accident                 NaN   \n",
       "379      Others            Not Applicable                 NaN   \n",
       "912       Clear            Not Applicable                 NaN   \n",
       "\n",
       "    Surface_Condition_val      month  weekend          time  accident  \n",
       "86         Not Applicable   February        0  morning_rush         1  \n",
       "179                   Dry   February        0       evening         1  \n",
       "337        Not Applicable   December        1  morning_rush         1  \n",
       "379                   Dry      April        0       evening         1  \n",
       "912                   Dry  September        0       morning         1  "
      ]
     },
     "execution_count": 549,
     "metadata": {},
     "output_type": "execute_result"
    }
   ],
   "source": [
    "df_train.head()"
   ]
  },
  {
   "cell_type": "code",
   "execution_count": 550,
   "metadata": {},
   "outputs": [
    {
     "name": "stderr",
     "output_type": "stream",
     "text": [
      "/home/ubuntu/anaconda3/lib/python3.6/site-packages/ipykernel_launcher.py:1: FutureWarning: Sorting because non-concatenation axis is not aligned. A future version\n",
      "of pandas will change to not sort by default.\n",
      "\n",
      "To accept the future behavior, pass 'sort=False'.\n",
      "\n",
      "To retain the current behavior and silence the warning, pass 'sort=True'.\n",
      "\n",
      "  \"\"\"Entry point for launching an IPython kernel.\n"
     ]
    }
   ],
   "source": [
    "df_train = pd.concat([df_train,df_neg])"
   ]
  },
  {
   "cell_type": "code",
   "execution_count": 551,
   "metadata": {},
   "outputs": [
    {
     "data": {
      "text/plain": [
       "(55468, 8)"
      ]
     },
     "execution_count": 551,
     "metadata": {},
     "output_type": "execute_result"
    }
   ],
   "source": [
    "df_train.shape"
   ]
  },
  {
   "cell_type": "code",
   "execution_count": 552,
   "metadata": {},
   "outputs": [],
   "source": [
    "df_train = df_train.sample(frac=1)\n"
   ]
  },
  {
   "cell_type": "code",
   "execution_count": 553,
   "metadata": {},
   "outputs": [],
   "source": [
    "Y = df_train['accident']"
   ]
  },
  {
   "cell_type": "code",
   "execution_count": 554,
   "metadata": {},
   "outputs": [],
   "source": [
    "X = df_train.drop(['accident'],axis=1)"
   ]
  },
  {
   "cell_type": "code",
   "execution_count": 555,
   "metadata": {},
   "outputs": [],
   "source": [
    "X = X.fillna(\"Unknown\")"
   ]
  },
  {
   "cell_type": "code",
   "execution_count": 556,
   "metadata": {},
   "outputs": [],
   "source": [
    "X = pd.get_dummies(X, columns=['weather_val', 'Road_Condition_val','Spot_Conditions_val','Surface_Condition_val',\n",
    "                               'month','time'])"
   ]
  },
  {
   "cell_type": "code",
   "execution_count": 557,
   "metadata": {},
   "outputs": [
    {
     "data": {
      "text/html": [
       "<div>\n",
       "<style scoped>\n",
       "    .dataframe tbody tr th:only-of-type {\n",
       "        vertical-align: middle;\n",
       "    }\n",
       "\n",
       "    .dataframe tbody tr th {\n",
       "        vertical-align: top;\n",
       "    }\n",
       "\n",
       "    .dataframe thead th {\n",
       "        text-align: right;\n",
       "    }\n",
       "</style>\n",
       "<table border=\"1\" class=\"dataframe\">\n",
       "  <thead>\n",
       "    <tr style=\"text-align: right;\">\n",
       "      <th></th>\n",
       "      <th>weekend</th>\n",
       "      <th>weather_val_Clear</th>\n",
       "      <th>weather_val_Cloudy</th>\n",
       "      <th>weather_val_Dust Storn</th>\n",
       "      <th>weather_val_Fine</th>\n",
       "      <th>weather_val_Flooding of Slipways/Rivulets</th>\n",
       "      <th>weather_val_Fog / Mist</th>\n",
       "      <th>weather_val_Heavy Rain</th>\n",
       "      <th>weather_val_Light Rain</th>\n",
       "      <th>weather_val_Mist or Fog</th>\n",
       "      <th>...</th>\n",
       "      <th>month_November</th>\n",
       "      <th>month_October</th>\n",
       "      <th>month_September</th>\n",
       "      <th>month_Unknown</th>\n",
       "      <th>time_afternoon</th>\n",
       "      <th>time_evening</th>\n",
       "      <th>time_evening_rush</th>\n",
       "      <th>time_morning</th>\n",
       "      <th>time_morning_rush</th>\n",
       "      <th>time_night</th>\n",
       "    </tr>\n",
       "  </thead>\n",
       "  <tbody>\n",
       "    <tr>\n",
       "      <th>29256</th>\n",
       "      <td>0</td>\n",
       "      <td>0</td>\n",
       "      <td>0</td>\n",
       "      <td>0</td>\n",
       "      <td>0</td>\n",
       "      <td>0</td>\n",
       "      <td>0</td>\n",
       "      <td>0</td>\n",
       "      <td>0</td>\n",
       "      <td>0</td>\n",
       "      <td>...</td>\n",
       "      <td>0</td>\n",
       "      <td>1</td>\n",
       "      <td>0</td>\n",
       "      <td>0</td>\n",
       "      <td>0</td>\n",
       "      <td>0</td>\n",
       "      <td>1</td>\n",
       "      <td>0</td>\n",
       "      <td>0</td>\n",
       "      <td>0</td>\n",
       "    </tr>\n",
       "    <tr>\n",
       "      <th>40362</th>\n",
       "      <td>1</td>\n",
       "      <td>0</td>\n",
       "      <td>0</td>\n",
       "      <td>1</td>\n",
       "      <td>0</td>\n",
       "      <td>0</td>\n",
       "      <td>0</td>\n",
       "      <td>0</td>\n",
       "      <td>0</td>\n",
       "      <td>0</td>\n",
       "      <td>...</td>\n",
       "      <td>0</td>\n",
       "      <td>0</td>\n",
       "      <td>0</td>\n",
       "      <td>0</td>\n",
       "      <td>0</td>\n",
       "      <td>0</td>\n",
       "      <td>0</td>\n",
       "      <td>1</td>\n",
       "      <td>0</td>\n",
       "      <td>0</td>\n",
       "    </tr>\n",
       "    <tr>\n",
       "      <th>5917</th>\n",
       "      <td>0</td>\n",
       "      <td>0</td>\n",
       "      <td>0</td>\n",
       "      <td>0</td>\n",
       "      <td>1</td>\n",
       "      <td>0</td>\n",
       "      <td>0</td>\n",
       "      <td>0</td>\n",
       "      <td>0</td>\n",
       "      <td>0</td>\n",
       "      <td>...</td>\n",
       "      <td>0</td>\n",
       "      <td>0</td>\n",
       "      <td>0</td>\n",
       "      <td>0</td>\n",
       "      <td>0</td>\n",
       "      <td>0</td>\n",
       "      <td>0</td>\n",
       "      <td>0</td>\n",
       "      <td>0</td>\n",
       "      <td>1</td>\n",
       "    </tr>\n",
       "    <tr>\n",
       "      <th>19087</th>\n",
       "      <td>1</td>\n",
       "      <td>0</td>\n",
       "      <td>0</td>\n",
       "      <td>0</td>\n",
       "      <td>0</td>\n",
       "      <td>0</td>\n",
       "      <td>0</td>\n",
       "      <td>0</td>\n",
       "      <td>0</td>\n",
       "      <td>1</td>\n",
       "      <td>...</td>\n",
       "      <td>0</td>\n",
       "      <td>0</td>\n",
       "      <td>0</td>\n",
       "      <td>0</td>\n",
       "      <td>1</td>\n",
       "      <td>0</td>\n",
       "      <td>0</td>\n",
       "      <td>0</td>\n",
       "      <td>0</td>\n",
       "      <td>0</td>\n",
       "    </tr>\n",
       "    <tr>\n",
       "      <th>42467</th>\n",
       "      <td>0</td>\n",
       "      <td>0</td>\n",
       "      <td>0</td>\n",
       "      <td>0</td>\n",
       "      <td>0</td>\n",
       "      <td>0</td>\n",
       "      <td>0</td>\n",
       "      <td>0</td>\n",
       "      <td>1</td>\n",
       "      <td>0</td>\n",
       "      <td>...</td>\n",
       "      <td>0</td>\n",
       "      <td>1</td>\n",
       "      <td>0</td>\n",
       "      <td>0</td>\n",
       "      <td>0</td>\n",
       "      <td>0</td>\n",
       "      <td>0</td>\n",
       "      <td>0</td>\n",
       "      <td>1</td>\n",
       "      <td>0</td>\n",
       "    </tr>\n",
       "  </tbody>\n",
       "</table>\n",
       "<p>5 rows × 67 columns</p>\n",
       "</div>"
      ],
      "text/plain": [
       "       weekend  weather_val_Clear  weather_val_Cloudy  weather_val_Dust Storn  \\\n",
       "29256        0                  0                   0                       0   \n",
       "40362        1                  0                   0                       1   \n",
       "5917         0                  0                   0                       0   \n",
       "19087        1                  0                   0                       0   \n",
       "42467        0                  0                   0                       0   \n",
       "\n",
       "       weather_val_Fine  weather_val_Flooding of Slipways/Rivulets  \\\n",
       "29256                 0                                          0   \n",
       "40362                 0                                          0   \n",
       "5917                  1                                          0   \n",
       "19087                 0                                          0   \n",
       "42467                 0                                          0   \n",
       "\n",
       "       weather_val_Fog / Mist  weather_val_Heavy Rain  weather_val_Light Rain  \\\n",
       "29256                       0                       0                       0   \n",
       "40362                       0                       0                       0   \n",
       "5917                        0                       0                       0   \n",
       "19087                       0                       0                       0   \n",
       "42467                       0                       0                       1   \n",
       "\n",
       "       weather_val_Mist or Fog  ...  month_November  month_October  \\\n",
       "29256                        0  ...               0              1   \n",
       "40362                        0  ...               0              0   \n",
       "5917                         0  ...               0              0   \n",
       "19087                        1  ...               0              0   \n",
       "42467                        0  ...               0              1   \n",
       "\n",
       "       month_September  month_Unknown  time_afternoon  time_evening  \\\n",
       "29256                0              0               0             0   \n",
       "40362                0              0               0             0   \n",
       "5917                 0              0               0             0   \n",
       "19087                0              0               1             0   \n",
       "42467                0              0               0             0   \n",
       "\n",
       "       time_evening_rush  time_morning  time_morning_rush  time_night  \n",
       "29256                  1             0                  0           0  \n",
       "40362                  0             1                  0           0  \n",
       "5917                   0             0                  0           1  \n",
       "19087                  0             0                  0           0  \n",
       "42467                  0             0                  1           0  \n",
       "\n",
       "[5 rows x 67 columns]"
      ]
     },
     "execution_count": 557,
     "metadata": {},
     "output_type": "execute_result"
    }
   ],
   "source": [
    "X.head()"
   ]
  },
  {
   "cell_type": "code",
   "execution_count": 558,
   "metadata": {},
   "outputs": [],
   "source": [
    "X_train, X_test, y_train, y_test = train_test_split(X, Y, test_size=0.3, random_state=0)"
   ]
  },
  {
   "cell_type": "code",
   "execution_count": 559,
   "metadata": {},
   "outputs": [],
   "source": [
    "rf = RandomForestClassifier(n_estimators=10)"
   ]
  },
  {
   "cell_type": "code",
   "execution_count": 560,
   "metadata": {},
   "outputs": [
    {
     "data": {
      "text/plain": [
       "RandomForestClassifier(bootstrap=True, class_weight=None, criterion='gini',\n",
       "                       max_depth=None, max_features='auto', max_leaf_nodes=None,\n",
       "                       min_impurity_decrease=0.0, min_impurity_split=None,\n",
       "                       min_samples_leaf=1, min_samples_split=2,\n",
       "                       min_weight_fraction_leaf=0.0, n_estimators=10,\n",
       "                       n_jobs=None, oob_score=False, random_state=None,\n",
       "                       verbose=0, warm_start=False)"
      ]
     },
     "execution_count": 560,
     "metadata": {},
     "output_type": "execute_result"
    }
   ],
   "source": [
    "rf.fit(X_train, y_train)"
   ]
  },
  {
   "cell_type": "code",
   "execution_count": 561,
   "metadata": {},
   "outputs": [],
   "source": [
    "pred = rf.predict(X_test)"
   ]
  },
  {
   "cell_type": "code",
   "execution_count": 562,
   "metadata": {},
   "outputs": [
    {
     "name": "stdout",
     "output_type": "stream",
     "text": [
      "Accuracy: 0.995312781683793\n"
     ]
    }
   ],
   "source": [
    "print(\"Accuracy:\",accuracy_score(y_test, pred))"
   ]
  },
  {
   "cell_type": "code",
   "execution_count": 563,
   "metadata": {},
   "outputs": [
    {
     "name": "stdout",
     "output_type": "stream",
     "text": [
      "('weekend', 0.010004160737228438)\n",
      "('weather_val_Clear', 0.09488334632379249)\n",
      "('weather_val_Cloudy', 0.0011231597452781568)\n",
      "('weather_val_Dust Storn', 0.0020129085429260946)\n",
      "('weather_val_Fine', 0.05798731046124219)\n",
      "('weather_val_Flooding of Slipways/Rivulets', 0.0023676527390167268)\n",
      "('weather_val_Fog / Mist', 0.002245943181515547)\n",
      "('weather_val_Heavy Rain', 0.002587505006512547)\n",
      "('weather_val_Light Rain', 0.0018789555571957438)\n",
      "('weather_val_Mist or Fog', 0.0017044245586743574)\n",
      "('weather_val_Not Applicable', 0.0032631376188185504)\n",
      "('weather_val_Others', 0.007077831575131957)\n",
      "('weather_val_Snow', 0.0020236616313565807)\n",
      "('weather_val_Very Cold', 0.0025744955698170026)\n",
      "('weather_val_Very Hot', 0.004938970216482689)\n",
      "('weather_val_Wind', 0.0028107723235885574)\n",
      "('Road_Condition_val_Clear', 0.003518868589822825)\n",
      "('Road_Condition_val_Cloudy', 0.005343171646471456)\n",
      "('Road_Condition_val_Construction Work / Material', 0.002746299121470195)\n",
      "('Road_Condition_val_Drainage Ditch', 0.0008211078132244013)\n",
      "('Road_Condition_val_Dust Storn', 0.0031545349912331265)\n",
      "('Road_Condition_val_Engineering Defect of Road', 0.007583267593314168)\n",
      "('Road_Condition_val_Fine', 0.0033207780397431206)\n",
      "('Road_Condition_val_Flooding of Slipways/Rivulets', 0.004396468913458299)\n",
      "('Road_Condition_val_Fog / Mist', 0.004027345155635754)\n",
      "('Road_Condition_val_Heavy Rain', 0.0026265527218973326)\n",
      "('Road_Condition_val_Light Rain', 0.0036897458221206276)\n",
      "('Road_Condition_val_Mist or Fog', 0.006077181092581948)\n",
      "('Road_Condition_val_No influence on accident', 0.1271028713988676)\n",
      "('Road_Condition_val_Not Applicable', 0.16819384243436536)\n",
      "('Road_Condition_val_Others', 0.0021909508188781785)\n",
      "('Road_Condition_val_Pot holed', 0.0012561919990860453)\n",
      "('Road_Condition_val_Snow', 0.003220188650440313)\n",
      "('Road_Condition_val_Very Cold', 0.0020595343477136647)\n",
      "('Road_Condition_val_Very Hot', 0.0038200145808760465)\n",
      "('Road_Condition_val_Wind', 0.0028165170625645093)\n",
      "('Spot_Conditions_val_Construction Work or Materials', 0.015630539151259355)\n",
      "('Spot_Conditions_val_Electric or Telephone or Pole or Cable', 0.009543951148512636)\n",
      "('Spot_Conditions_val_Others', 0.007784200790526436)\n",
      "('Spot_Conditions_val_Tree or Branches', 0.00451866015548444)\n",
      "('Spot_Conditions_val_Unknown', 0.13567859418838116)\n",
      "('Surface_Condition_val_Ditch or Potholed', 0.0067973515678349545)\n",
      "('Surface_Condition_val_Dry', 0.19711725529206695)\n",
      "('Surface_Condition_val_Flooded', 0.00872097158152406)\n",
      "('Surface_Condition_val_Muddy', 0.008544660905627569)\n",
      "('Surface_Condition_val_Not Applicable', 0.009730384752005833)\n",
      "('Surface_Condition_val_Others', 0.003953444315776447)\n",
      "('Surface_Condition_val_Wet', 0.00510567275296014)\n",
      "('month_April', 0.001125283827540187)\n",
      "('month_August', 0.0011098319239888107)\n",
      "('month_December', 0.000997797761358174)\n",
      "('month_February', 0.0016831579228058322)\n",
      "('month_January', 0.0020880061934688806)\n",
      "('month_July', 0.0014041474266269192)\n",
      "('month_June', 0.0011028710436418625)\n",
      "('month_March', 0.001264917789981048)\n",
      "('month_May', 0.0016055622822673682)\n",
      "('month_November', 0.0010244703307634362)\n",
      "('month_October', 0.001583594265663807)\n",
      "('month_September', 0.0011290574683014128)\n",
      "('month_Unknown', 0.0021327248811067283)\n",
      "('time_afternoon', 0.0018885716136521145)\n",
      "('time_evening', 0.0019183228871416061)\n",
      "('time_evening_rush', 0.0017075823443700774)\n",
      "('time_morning', 0.001723639457502609)\n",
      "('time_morning_rush', 0.0020373945084594435)\n",
      "('time_night', 0.001897710887057115)\n"
     ]
    }
   ],
   "source": [
    "for feature in zip(X.columns, rf.feature_importances_):\n",
    "    print(feature)"
   ]
  },
  {
   "cell_type": "code",
   "execution_count": 564,
   "metadata": {},
   "outputs": [],
   "source": [
    "test = df_train[df_train['accident']==1]"
   ]
  },
  {
   "cell_type": "code",
   "execution_count": 565,
   "metadata": {},
   "outputs": [
    {
     "data": {
      "text/plain": [
       "(5468, 8)"
      ]
     },
     "execution_count": 565,
     "metadata": {},
     "output_type": "execute_result"
    }
   ],
   "source": [
    "test.shape"
   ]
  },
  {
   "cell_type": "code",
   "execution_count": 566,
   "metadata": {},
   "outputs": [],
   "source": [
    "x_val = test.drop(['accident'],axis=1)"
   ]
  },
  {
   "cell_type": "code",
   "execution_count": 567,
   "metadata": {},
   "outputs": [],
   "source": [
    "x_val = x_val.fillna(\"Unknown\")"
   ]
  },
  {
   "cell_type": "code",
   "execution_count": 568,
   "metadata": {},
   "outputs": [],
   "source": [
    "x_val = pd.get_dummies(x_val, columns=['weather_val', 'Road_Condition_val','Spot_Conditions_val','Surface_Condition_val',\n",
    "                               'month','time'])"
   ]
  },
  {
   "cell_type": "code",
   "execution_count": 569,
   "metadata": {},
   "outputs": [
    {
     "ename": "ValueError",
     "evalue": "Number of features of the model must match the input. Model n_features is 67 and input n_features is 53 ",
     "output_type": "error",
     "traceback": [
      "\u001b[0;31m---------------------------------------------------------------------------\u001b[0m",
      "\u001b[0;31mValueError\u001b[0m                                Traceback (most recent call last)",
      "\u001b[0;32m<ipython-input-569-cdf3cf292211>\u001b[0m in \u001b[0;36m<module>\u001b[0;34m()\u001b[0m\n\u001b[0;32m----> 1\u001b[0;31m \u001b[0mpred_val\u001b[0m \u001b[0;34m=\u001b[0m \u001b[0mrf\u001b[0m\u001b[0;34m.\u001b[0m\u001b[0mpredict\u001b[0m\u001b[0;34m(\u001b[0m\u001b[0mx_val\u001b[0m\u001b[0;34m)\u001b[0m\u001b[0;34m\u001b[0m\u001b[0m\n\u001b[0m",
      "\u001b[0;32m~/anaconda3/lib/python3.6/site-packages/sklearn/ensemble/forest.py\u001b[0m in \u001b[0;36mpredict\u001b[0;34m(self, X)\u001b[0m\n\u001b[1;32m    543\u001b[0m             \u001b[0mThe\u001b[0m \u001b[0mpredicted\u001b[0m \u001b[0mclasses\u001b[0m\u001b[0;34m.\u001b[0m\u001b[0;34m\u001b[0m\u001b[0m\n\u001b[1;32m    544\u001b[0m         \"\"\"\n\u001b[0;32m--> 545\u001b[0;31m         \u001b[0mproba\u001b[0m \u001b[0;34m=\u001b[0m \u001b[0mself\u001b[0m\u001b[0;34m.\u001b[0m\u001b[0mpredict_proba\u001b[0m\u001b[0;34m(\u001b[0m\u001b[0mX\u001b[0m\u001b[0;34m)\u001b[0m\u001b[0;34m\u001b[0m\u001b[0m\n\u001b[0m\u001b[1;32m    546\u001b[0m \u001b[0;34m\u001b[0m\u001b[0m\n\u001b[1;32m    547\u001b[0m         \u001b[0;32mif\u001b[0m \u001b[0mself\u001b[0m\u001b[0;34m.\u001b[0m\u001b[0mn_outputs_\u001b[0m \u001b[0;34m==\u001b[0m \u001b[0;36m1\u001b[0m\u001b[0;34m:\u001b[0m\u001b[0;34m\u001b[0m\u001b[0m\n",
      "\u001b[0;32m~/anaconda3/lib/python3.6/site-packages/sklearn/ensemble/forest.py\u001b[0m in \u001b[0;36mpredict_proba\u001b[0;34m(self, X)\u001b[0m\n\u001b[1;32m    586\u001b[0m         \u001b[0mcheck_is_fitted\u001b[0m\u001b[0;34m(\u001b[0m\u001b[0mself\u001b[0m\u001b[0;34m,\u001b[0m \u001b[0;34m'estimators_'\u001b[0m\u001b[0;34m)\u001b[0m\u001b[0;34m\u001b[0m\u001b[0m\n\u001b[1;32m    587\u001b[0m         \u001b[0;31m# Check data\u001b[0m\u001b[0;34m\u001b[0m\u001b[0;34m\u001b[0m\u001b[0m\n\u001b[0;32m--> 588\u001b[0;31m         \u001b[0mX\u001b[0m \u001b[0;34m=\u001b[0m \u001b[0mself\u001b[0m\u001b[0;34m.\u001b[0m\u001b[0m_validate_X_predict\u001b[0m\u001b[0;34m(\u001b[0m\u001b[0mX\u001b[0m\u001b[0;34m)\u001b[0m\u001b[0;34m\u001b[0m\u001b[0m\n\u001b[0m\u001b[1;32m    589\u001b[0m \u001b[0;34m\u001b[0m\u001b[0m\n\u001b[1;32m    590\u001b[0m         \u001b[0;31m# Assign chunk of trees to jobs\u001b[0m\u001b[0;34m\u001b[0m\u001b[0;34m\u001b[0m\u001b[0m\n",
      "\u001b[0;32m~/anaconda3/lib/python3.6/site-packages/sklearn/ensemble/forest.py\u001b[0m in \u001b[0;36m_validate_X_predict\u001b[0;34m(self, X)\u001b[0m\n\u001b[1;32m    357\u001b[0m                                  \"call `fit` before exploiting the model.\")\n\u001b[1;32m    358\u001b[0m \u001b[0;34m\u001b[0m\u001b[0m\n\u001b[0;32m--> 359\u001b[0;31m         \u001b[0;32mreturn\u001b[0m \u001b[0mself\u001b[0m\u001b[0;34m.\u001b[0m\u001b[0mestimators_\u001b[0m\u001b[0;34m[\u001b[0m\u001b[0;36m0\u001b[0m\u001b[0;34m]\u001b[0m\u001b[0;34m.\u001b[0m\u001b[0m_validate_X_predict\u001b[0m\u001b[0;34m(\u001b[0m\u001b[0mX\u001b[0m\u001b[0;34m,\u001b[0m \u001b[0mcheck_input\u001b[0m\u001b[0;34m=\u001b[0m\u001b[0;32mTrue\u001b[0m\u001b[0;34m)\u001b[0m\u001b[0;34m\u001b[0m\u001b[0m\n\u001b[0m\u001b[1;32m    360\u001b[0m \u001b[0;34m\u001b[0m\u001b[0m\n\u001b[1;32m    361\u001b[0m     \u001b[0;34m@\u001b[0m\u001b[0mproperty\u001b[0m\u001b[0;34m\u001b[0m\u001b[0m\n",
      "\u001b[0;32m~/anaconda3/lib/python3.6/site-packages/sklearn/tree/tree.py\u001b[0m in \u001b[0;36m_validate_X_predict\u001b[0;34m(self, X, check_input)\u001b[0m\n\u001b[1;32m    400\u001b[0m                              \u001b[0;34m\"match the input. Model n_features is %s and \"\u001b[0m\u001b[0;34m\u001b[0m\u001b[0m\n\u001b[1;32m    401\u001b[0m                              \u001b[0;34m\"input n_features is %s \"\u001b[0m\u001b[0;34m\u001b[0m\u001b[0m\n\u001b[0;32m--> 402\u001b[0;31m                              % (self.n_features_, n_features))\n\u001b[0m\u001b[1;32m    403\u001b[0m \u001b[0;34m\u001b[0m\u001b[0m\n\u001b[1;32m    404\u001b[0m         \u001b[0;32mreturn\u001b[0m \u001b[0mX\u001b[0m\u001b[0;34m\u001b[0m\u001b[0m\n",
      "\u001b[0;31mValueError\u001b[0m: Number of features of the model must match the input. Model n_features is 67 and input n_features is 53 "
     ]
    }
   ],
   "source": [
    "pred_val = rf.predict(x_val)"
   ]
  },
  {
   "cell_type": "code",
   "execution_count": null,
   "metadata": {},
   "outputs": [],
   "source": []
  },
  {
   "cell_type": "code",
   "execution_count": null,
   "metadata": {},
   "outputs": [],
   "source": []
  },
  {
   "cell_type": "code",
   "execution_count": null,
   "metadata": {},
   "outputs": [],
   "source": []
  },
  {
   "cell_type": "code",
   "execution_count": null,
   "metadata": {},
   "outputs": [],
   "source": []
  },
  {
   "cell_type": "code",
   "execution_count": null,
   "metadata": {},
   "outputs": [],
   "source": []
  },
  {
   "cell_type": "code",
   "execution_count": null,
   "metadata": {},
   "outputs": [],
   "source": []
  },
  {
   "cell_type": "code",
   "execution_count": null,
   "metadata": {},
   "outputs": [],
   "source": []
  }
 ],
 "metadata": {
  "kernelspec": {
   "display_name": "Python 3",
   "language": "python",
   "name": "python3"
  },
  "language_info": {
   "codemirror_mode": {
    "name": "ipython",
    "version": 3
   },
   "file_extension": ".py",
   "mimetype": "text/x-python",
   "name": "python",
   "nbconvert_exporter": "python",
   "pygments_lexer": "ipython3",
   "version": "3.6.5"
  }
 },
 "nbformat": 4,
 "nbformat_minor": 2
}
