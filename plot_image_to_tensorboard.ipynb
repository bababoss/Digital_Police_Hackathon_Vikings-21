{
 "cells": [
  {
   "cell_type": "code",
   "execution_count": null,
   "metadata": {},
   "outputs": [],
   "source": [
    "#https://github.com/anujshah1003/Tensorboard-own-image-data-image-features-embedding-visualization"
   ]
  },
  {
   "cell_type": "code",
   "execution_count": 3,
   "metadata": {},
   "outputs": [],
   "source": [
    "# -*- coding: utf-8 -*-\n",
    "\n",
    "\n",
    "import os,cv2\n",
    "import numpy as np\n",
    "import matplotlib.pyplot as plt\n",
    "import pickle\n",
    "import tensorflow as tf\n",
    "from tensorflow.contrib.tensorboard.plugins import projector\n",
    "tf.__version__\n",
    "\n",
    "PATH = os.getcwd()\n",
    "\n",
    "LOG_DIR = PATH+ '/embedding-logs'\n",
    "#metadata = os.path.join(LOG_DIR, 'metadata2.tsv')"
   ]
  },
  {
   "cell_type": "code",
   "execution_count": 4,
   "metadata": {},
   "outputs": [],
   "source": [
    "PATH = 'image_dataset'\n",
    "#%%\n",
    "data_path = PATH \n",
    "data_dir_list = os.listdir(data_path)\n",
    "\n",
    "img_data=[]\n",
    "img_list=os.listdir(data_path)\n",
    "\n"
   ]
  },
  {
   "cell_type": "code",
   "execution_count": 71,
   "metadata": {},
   "outputs": [],
   "source": [
    "img_list = [img for img in img_list if img != '.ipynb_checkpoints']"
   ]
  },
  {
   "cell_type": "code",
   "execution_count": 76,
   "metadata": {},
   "outputs": [],
   "source": [
    "img_data = []\n",
    "for img in img_list:\n",
    "    input_img=cv2.imread(PATH + '/'+ img )\n",
    "    input_img_resize=cv2.resize(input_img, (224,224))\n",
    "    img_data.append(input_img_resize)\n",
    "    \n",
    "                \n",
    "img_data = np.array(img_data)"
   ]
  },
  {
   "cell_type": "code",
   "execution_count": null,
   "metadata": {},
   "outputs": [],
   "source": []
  },
  {
   "cell_type": "code",
   "execution_count": 74,
   "metadata": {},
   "outputs": [],
   "source": [
    "import csv\n",
    "import tensorflow as tf\n",
    "import tensorflow_hub as hub"
   ]
  },
  {
   "cell_type": "code",
   "execution_count": 75,
   "metadata": {},
   "outputs": [],
   "source": [
    "img_data = img_data[:1000]"
   ]
  },
  {
   "cell_type": "code",
   "execution_count": 8,
   "metadata": {},
   "outputs": [
    {
     "data": {
      "text/plain": [
       "(1000, 224, 224, 3)"
      ]
     },
     "execution_count": 8,
     "metadata": {},
     "output_type": "execute_result"
    }
   ],
   "source": [
    "img_data.shape"
   ]
  },
  {
   "cell_type": "code",
   "execution_count": 9,
   "metadata": {},
   "outputs": [],
   "source": [
    "tf.reset_default_graph()\n",
    "tf.logging.set_verbosity(tf.logging.FATAL)\n",
    "\n",
    "module = hub.Module(\"https://tfhub.dev/google/imagenet/inception_v3/feature_vector/3\",\n",
    "                    trainable=False)#, tags={\"train\"})\n",
    "features = module(inputs=dict(images=img_data, batch_norm_momentum=0.997),\n",
    "                  signature=\"image_feature_vector_with_bn_hparams\")\n",
    "with tf.Session() as sess:\n",
    "    sess.run(tf.global_variables_initializer())\n",
    "    sess.run(tf.tables_initializer())\n",
    "    result = sess.run(features)"
   ]
  },
  {
   "cell_type": "code",
   "execution_count": 10,
   "metadata": {},
   "outputs": [],
   "source": [
    "features = tf.Variable(result, name='features')"
   ]
  },
  {
   "cell_type": "code",
   "execution_count": 11,
   "metadata": {},
   "outputs": [
    {
     "data": {
      "text/plain": [
       "TensorShape([Dimension(1000), Dimension(2048)])"
      ]
     },
     "execution_count": 11,
     "metadata": {},
     "output_type": "execute_result"
    }
   ],
   "source": [
    "features.shape"
   ]
  },
  {
   "cell_type": "code",
   "execution_count": null,
   "metadata": {},
   "outputs": [],
   "source": []
  },
  {
   "cell_type": "code",
   "execution_count": null,
   "metadata": {},
   "outputs": [],
   "source": []
  },
  {
   "cell_type": "code",
   "execution_count": null,
   "metadata": {},
   "outputs": [],
   "source": []
  },
  {
   "cell_type": "code",
   "execution_count": 15,
   "metadata": {},
   "outputs": [],
   "source": [
    "%store -r full_dataset"
   ]
  },
  {
   "cell_type": "code",
   "execution_count": 16,
   "metadata": {},
   "outputs": [],
   "source": [
    "del full_dataset"
   ]
  },
  {
   "cell_type": "code",
   "execution_count": 77,
   "metadata": {},
   "outputs": [
    {
     "name": "stderr",
     "output_type": "stream",
     "text": [
      "/home/ubuntu/anaconda3/lib/python3.6/site-packages/IPython/core/interactiveshell.py:2785: DtypeWarning: Columns (115,116) have mixed types. Specify dtype option on import or set low_memory=False.\n",
      "  interactivity=interactivity, compiler=compiler, result=result)\n"
     ]
    }
   ],
   "source": [
    "import pandas as pd\n",
    "accidents = pd.read_csv('accidents_report.csv')"
   ]
  },
  {
   "cell_type": "code",
   "execution_count": 92,
   "metadata": {
    "scrolled": true
   },
   "outputs": [
    {
     "data": {
      "text/plain": [
       "['Unnamed: 0',\n",
       " 'Unit_ID',\n",
       " 'Crime_No',\n",
       " 'Accident_DateTime',\n",
       " 'Fatal_NonFatal',\n",
       " 'Accident_Classification',\n",
       " 'Severity',\n",
       " 'Collision_Type',\n",
       " 'Accident_Spot',\n",
       " 'Accident_Location',\n",
       " 'Accident_Zone',\n",
       " 'NoOfVehicle_Involved',\n",
       " 'Junction_Control',\n",
       " 'Road_Character',\n",
       " 'Road_Type',\n",
       " 'Road_Classification',\n",
       " 'Road_Width',\n",
       " 'Shoulder_Width',\n",
       " 'Seperation',\n",
       " 'Surface_Type',\n",
       " 'Surface_Condition',\n",
       " 'Road_Condition',\n",
       " 'weather',\n",
       " 'Location_Type',\n",
       " 'Main_Cause',\n",
       " 'Hit_Run',\n",
       " 'XY_Map',\n",
       " 'X_Value',\n",
       " 'AccidentLocation_Map',\n",
       " 'Collision_Diagram',\n",
       " 'Y_Value',\n",
       " 'Route',\n",
       " 'KM',\n",
       " 'HundredM',\n",
       " 'Node_Map',\n",
       " 'Node1',\n",
       " 'Node2',\n",
       " 'Accident_City',\n",
       " 'Accident_Road',\n",
       " 'Reporting_Officer',\n",
       " 'LandMark_First',\n",
       " 'LandMark_Second',\n",
       " 'Distance_LandMark_First',\n",
       " 'Distance_LandMark_Second',\n",
       " 'Junction_Second_Name',\n",
       " 'Distance_Second_Road',\n",
       " 'Research_Code',\n",
       " 'Accident_Description',\n",
       " 'Action_Special_Note',\n",
       " 'UserID',\n",
       " 'Inspection_Officer_Name',\n",
       " 'Inspection_Officer_Rank',\n",
       " 'Inspection_Officer_Code',\n",
       " 'Actual_DateOf_Occurance',\n",
       " 'FromDate_Of_Occurance',\n",
       " 'ToDate_Of_Occurance',\n",
       " 'Lane_Type',\n",
       " 'Road_Markings',\n",
       " 'Spot_Conditions',\n",
       " 'Date_Of_Filling',\n",
       " 'Highway_Patrol_No',\n",
       " 'Aid_Post_No',\n",
       " 'Aid_Post_Distance',\n",
       " 'Trauma_Care_Centre_No',\n",
       " 'Trauma_Care_Centre_Distance',\n",
       " 'Checked',\n",
       " 'Signage',\n",
       " 'Side_Walk',\n",
       " 'Modified_Unit_ID',\n",
       " 'Action_Flag',\n",
       " 'Sync_Id',\n",
       " 'Sync_Id_Old',\n",
       " 'NoOf_Animal_Injured',\n",
       " 'NoOf_Animal_Killed',\n",
       " 'DEDT',\n",
       " 'Accident_Location_id',\n",
       " 'NoOfMinorInjured',\n",
       " 'NoOfNonVehicle',\n",
       " 'RoadNumber',\n",
       " 'Chainage',\n",
       " 'SpeedLimit',\n",
       " 'Road_typeb',\n",
       " 'RoadJunction',\n",
       " 'Accident_spotb',\n",
       " 'PotHoles',\n",
       " 'SteepGradient',\n",
       " 'Footpath',\n",
       " 'FootBridgeSubway',\n",
       " 'ZebraCrossing',\n",
       " 'Collision_Typeb',\n",
       " 'Fatal_NonFatal_val',\n",
       " 'Accident_Classification_val',\n",
       " 'Severity_val',\n",
       " 'Collision_Type_val',\n",
       " 'Accident_Spot_val',\n",
       " 'Accident_Location_val',\n",
       " 'Junction_Control_val',\n",
       " 'Road_Character_val',\n",
       " 'Road_Type_val',\n",
       " 'Road_Classification_val',\n",
       " 'Seperation_val',\n",
       " 'Surface_Type_val',\n",
       " 'Surface_Condition_val',\n",
       " 'Road_Condition_val',\n",
       " 'weather_val',\n",
       " 'Location_Type_val',\n",
       " 'Main_Cause_val',\n",
       " 'Hit_Run_val',\n",
       " 'Accident_City_val',\n",
       " 'Accident_Road_val',\n",
       " 'Lane_Type_val',\n",
       " 'Road_Markings_val',\n",
       " 'Spot_Conditions_val',\n",
       " 'Side_Walk_val',\n",
       " 'Accident_Location_id_val',\n",
       " 'RoadJunction_val',\n",
       " 'Accident_spotb_val']"
      ]
     },
     "execution_count": 92,
     "metadata": {},
     "output_type": "execute_result"
    }
   ],
   "source": [
    "accidents.columns.tolist()"
   ]
  },
  {
   "cell_type": "code",
   "execution_count": 93,
   "metadata": {},
   "outputs": [
    {
     "data": {
      "text/plain": [
       "NH                     58738\n",
       "State Highway          38605\n",
       "City or Town Road      32347\n",
       "Village Road           27362\n",
       "Others                 22709\n",
       "Two way                 6253\n",
       "Not Applicable          3352\n",
       "One way                 2533\n",
       "Service Road            2011\n",
       "Major District Road     1836\n",
       "Residential Street      1589\n",
       "Minor District Road     1310\n",
       "Arterial                 824\n",
       "Expressway               633\n",
       "Mixed                    466\n",
       "Sub Arterial             293\n",
       "Forest Road              238\n",
       "Feeder Road              101\n",
       "Name: Road_Type_val, dtype: int64"
      ]
     },
     "execution_count": 93,
     "metadata": {},
     "output_type": "execute_result"
    }
   ],
   "source": [
    "accidents['Road_Type_val'].value_counts()"
   ]
  },
  {
   "cell_type": "code",
   "execution_count": null,
   "metadata": {},
   "outputs": [],
   "source": []
  },
  {
   "cell_type": "code",
   "execution_count": 102,
   "metadata": {
    "scrolled": true
   },
   "outputs": [],
   "source": [
    "severities = []\n",
    "road_type = []\n",
    "for img in img_list[:1000]:\n",
    "    crime_no = img[:10]\n",
    "    unit_id = img[10:-4]    \n",
    "    if unit_id == '':\n",
    "        severities.append('JUNK')\n",
    "        road_type.append('JUNK')\n",
    "        continue\n",
    "    res = accidents.query('Crime_No=={0} and Unit_ID=={1}'.format(crime_no,unit_id))\n",
    "    if res.shape[0] == 0:\n",
    "        severities.append('JUNK')\n",
    "        road_type.append('JUNK')\n",
    "        continue\n",
    "    severities.append(res['Severity_val'].iloc[0])\n",
    "    road_type.append(res['Road_Type_val'].iloc[0])\n",
    "#    break"
   ]
  },
  {
   "cell_type": "code",
   "execution_count": 101,
   "metadata": {},
   "outputs": [
    {
     "data": {
      "text/plain": [
       "932"
      ]
     },
     "execution_count": 101,
     "metadata": {},
     "output_type": "execute_result"
    }
   ],
   "source": [
    "len(road_type)"
   ]
  },
  {
   "cell_type": "code",
   "execution_count": 103,
   "metadata": {},
   "outputs": [],
   "source": [
    "#with open(metadata, 'w') as metadata_file:\n",
    "#    for row in range(210):\n",
    "#        c = y[row]\n",
    "#        metadata_file.write('{}\\n'.format(c))\n",
    "metadata_file = open(os.path.join(LOG_DIR, 'metadata_4_classes.tsv'), 'w')\n",
    "metadata_file.write('Class\\tSeverity\\tRoadType\\n')\n",
    "k=100 # num of samples in each class\n",
    "j=0\n",
    "#for i in range(210):\n",
    "#    metadata_file.write('%06d\\t%s\\n' % (i, names[y[i]]))\n",
    "for i in range(len(severities)):\n",
    "    #metadata_file.write('{}\\n'.format(severities[i]))\n",
    "    if i%k==0:\n",
    "        j=j+1\n",
    "    metadata_file.write('{0}\\t{1}\\t{2}\\n'.format(j, \n",
    "                                                 severities[i], \n",
    "                                                 road_type[i]))\n",
    "    \n",
    "metadata_file.close()\n"
   ]
  },
  {
   "cell_type": "code",
   "execution_count": 104,
   "metadata": {},
   "outputs": [
    {
     "data": {
      "text/plain": [
       "({'Damage Only',\n",
       "  'Fatal',\n",
       "  'Grievous Injury',\n",
       "  'JUNK',\n",
       "  'Not Applicable',\n",
       "  'Simple Injury'},\n",
       " {'Arterial',\n",
       "  'City or Town Road',\n",
       "  'Expressway',\n",
       "  'Feeder Road',\n",
       "  'Forest Road',\n",
       "  'JUNK',\n",
       "  'Mixed',\n",
       "  'NH',\n",
       "  'Not Applicable',\n",
       "  'One way',\n",
       "  'Others',\n",
       "  'Residential Street',\n",
       "  'Service Road',\n",
       "  'State Highway',\n",
       "  'Sub Arterial',\n",
       "  'Two way',\n",
       "  'Village Road'})"
      ]
     },
     "execution_count": 104,
     "metadata": {},
     "output_type": "execute_result"
    }
   ],
   "source": [
    "set(severities), set(road_type)"
   ]
  },
  {
   "cell_type": "code",
   "execution_count": null,
   "metadata": {},
   "outputs": [],
   "source": []
  },
  {
   "cell_type": "code",
   "execution_count": 12,
   "metadata": {},
   "outputs": [],
   "source": [
    "    \n",
    "# Taken from: https://github.com/tensorflow/tensorflow/issues/6322\n",
    "def images_to_sprite(data):\n",
    "    \"\"\"Creates the sprite image along with any necessary padding\n",
    "    Args:\n",
    "      data: NxHxW[x3] tensor containing the images.\n",
    "    Returns:\n",
    "      data: Properly shaped HxWx3 image with any necessary padding.\n",
    "    \"\"\"\n",
    "    if len(data.shape) == 3:\n",
    "        data = np.tile(data[...,np.newaxis], (1,1,1,3))\n",
    "    data = data.astype(np.float32)\n",
    "    min = np.min(data.reshape((data.shape[0], -1)), axis=1)\n",
    "    data = (data.transpose(1,2,3,0) - min).transpose(3,0,1,2)\n",
    "    max = np.max(data.reshape((data.shape[0], -1)), axis=1)\n",
    "    data = (data.transpose(1,2,3,0) / max).transpose(3,0,1,2)\n",
    "    # Inverting the colors seems to look better for MNIST\n",
    "    #data = 1 - data\n",
    "\n",
    "    n = int(np.ceil(np.sqrt(data.shape[0])))\n",
    "    padding = ((0, n ** 2 - data.shape[0]), (0, 0),\n",
    "            (0, 0)) + ((0, 0),) * (data.ndim - 3)\n",
    "    data = np.pad(data, padding, mode='constant',\n",
    "            constant_values=0)\n",
    "    # Tile the individual thumbnails into an image.\n",
    "    data = data.reshape((n, n) + data.shape[1:]).transpose((0, 2, 1, 3)\n",
    "            + tuple(range(4, data.ndim + 1)))\n",
    "    data = data.reshape((n * data.shape[1], n * data.shape[3]) + data.shape[4:])\n",
    "    data = (data * 255).astype(np.uint8)\n",
    "    return data"
   ]
  },
  {
   "cell_type": "code",
   "execution_count": 13,
   "metadata": {},
   "outputs": [
    {
     "data": {
      "text/plain": [
       "True"
      ]
     },
     "execution_count": 13,
     "metadata": {},
     "output_type": "execute_result"
    }
   ],
   "source": [
    "#%%\n",
    "sprite = images_to_sprite(img_data)\n",
    "cv2.imwrite(os.path.join(LOG_DIR, 'sprite_4_classes.png'), sprite)\n",
    "#scipy.misc.imsave(os.path.join(LOG_DIR, 'sprite.png'), sprite)\n"
   ]
  },
  {
   "cell_type": "code",
   "execution_count": 67,
   "metadata": {},
   "outputs": [],
   "source": [
    "\n",
    "#%%\n",
    "with tf.Session() as sess:\n",
    "    saver = tf.train.Saver([features])\n",
    "\n",
    "    sess.run(features.initializer)\n",
    "    saver.save(sess, os.path.join(LOG_DIR, 'images_4_classes.ckpt'))\n",
    "    \n",
    "    config = projector.ProjectorConfig()\n",
    "    # One can add multiple embeddings.\n",
    "    embedding = config.embeddings.add()\n",
    "    embedding.tensor_name = features.name\n",
    "    # Link this tensor to its metadata file (e.g. labels).\n",
    "    embedding.metadata_path = os.path.join(LOG_DIR, 'metadata_4_classes.tsv')\n",
    "    # Comment out if you don't want sprites\n",
    "    embedding.sprite.image_path = os.path.join(LOG_DIR, 'sprite_4_classes.png')\n",
    "    embedding.sprite.single_image_dim.extend([img_data.shape[1], img_data.shape[1]])\n",
    "    # Saves a config file that TensorBoard will read during startup.\n",
    "    projector.visualize_embeddings(tf.summary.FileWriter(LOG_DIR), config)"
   ]
  },
  {
   "cell_type": "code",
   "execution_count": null,
   "metadata": {},
   "outputs": [],
   "source": []
  },
  {
   "cell_type": "code",
   "execution_count": null,
   "metadata": {},
   "outputs": [],
   "source": []
  },
  {
   "cell_type": "code",
   "execution_count": null,
   "metadata": {},
   "outputs": [],
   "source": []
  },
  {
   "cell_type": "code",
   "execution_count": 110,
   "metadata": {},
   "outputs": [],
   "source": [
    "#accident description"
   ]
  },
  {
   "cell_type": "code",
   "execution_count": 112,
   "metadata": {},
   "outputs": [],
   "source": [
    "#!pip install langdetect"
   ]
  },
  {
   "cell_type": "code",
   "execution_count": 114,
   "metadata": {},
   "outputs": [],
   "source": [
    "from langdetect import detect"
   ]
  },
  {
   "cell_type": "code",
   "execution_count": 115,
   "metadata": {},
   "outputs": [],
   "source": [
    "#detect(\"Ein, zwei, drei, vier\")"
   ]
  },
  {
   "cell_type": "code",
   "execution_count": 116,
   "metadata": {
    "scrolled": true
   },
   "outputs": [
    {
     "data": {
      "text/plain": [
       "100    ಅಪಘಾತ ನಡೆದ ಸ್ಥಳವು ಪಾಣೆಮಂಗಳೂರು ಗ್ರಾಮದ ಪಾಣೆಮಂಗಳೂ...\n",
       "101    N.H.66 IN FRONT OF BHUVANESHWARAI STORES SALIG...\n",
       "102                               Near CoffeDay B.B.Road\n",
       "103                                                    .\n",
       "104    ಅಪಘಾತ ನಡೆದ ಸ್ಥಳದ ಚಕ್ಕುಬಂದಿ  ಪೂರ್ವಕ್ಕೆ  ಸಿಂಗಸಂದ...\n",
       "105    ರಾಯಚೂರ ಬೆಳಗಾವಿ ರಾಜ್ಯ ಹೆದ್ದಾರಿ ಮೆಲೆ ತುಂಬ ಗ್ರಾಮದ...\n",
       "106    ಸದರಿ ಪ್ರಕರಣದ ಅಪಘಾತವು ಚಿಕ್ಕಜಾಜೂರು ಠಾಣಾ ವ್ಯಾಪ್ತಿ...\n",
       "107    ಶಿವಮೊಗ್ಗ ಪಶ್ವಿಮ ಸಂಚಾರಿ ಪೊಲೀಸ್ ಠಾಣಾ ಗುನ್ನೆ ನಂ:1...\n",
       "108    ಬೆಂಗಳೂರು ಜಿಲ್ಲೆ, ಆನೇಕಲ್ ತಾಲ್ಲೊಕು, ಅತ್ತಿಬೆಲೆ ಹೋ...\n",
       "109    MARAKUMBI VILLAGE LIMITS NEAR MARAKUMBI BRIDGE...\n",
       "110    ಚಾಮರಾಜನಗರ ಗ್ರಾಮಾಂತರ ಪೊಲೀಸ್ ಠಾಣಾ ಸರಹದ್ದು ಚಾ,ನಗರ...\n",
       "111    HALAKI VILALGE LIMITS NEAR HALAKI VILLAGE ON Y...\n",
       "112                                Tidagundi Bridge Near\n",
       "113    BHUDIGOPPA VILLAGE LIMITS NEAR GOVT JUNGALE, O...\n",
       "114                                       ಕೃತ್ಯಸ್ಥಳದಲ್ಲಿ\n",
       "115    ದಾವಣಗೆರೆ ಉತ್ತರ ಸಂಚಾರ ಪೊಲೀಸ್ ಠಾಣಾ ಸರಹದ್ದಿನ ಎ.ಪಿ...\n",
       "116    ಅಪಫಾತ ಸ್ಥಳವು ಬಂಟ್ವಾಳ ತಾಲೂಕು ತುಂಬೆ  ಗ್ರಾಮದ ತುಂಬ...\n",
       "117    NEAR KRISHNAPURA NURSERY. MUDIGERE TALUK RURAL...\n",
       "118    ದಿ:10-05-15   ರಂದು  ಬೆಳಗ್ಗೆ ಸುಮಾರು  10-30 ಗಂಟೆ...\n",
       "119    ಕುಂಬಾರಹಳ್ಳಿ ಗೇಟ್ ಸಮೀಪ, ಕೋಲಾರ-ಮುಳಬಾಗಿಲು ಎನ್,ಹೆಚ...\n",
       "120                SAGAR HONNAVAR ROAD MALEMANE SIDDAPUR\n",
       "121            ಮೀನುಕುಂಟೆ ಹೊಸೂರು ಗೇಟ್ ಜಂಕ್ಷನ್, ಬಿಬಿ ರಸ್ತೆ\n",
       "122                                   Halgeri to Harihar\n",
       "123    ತಕ್ಷೀರು ಸ್ಥಳವು ಉಡುಪಿ ತಾಲೂಕು ಬೊಮ್ಮಾರಬೆಟ್ಟು ಗ್ರಾ...\n",
       "124    TOWARDS EAST WEST DEVIS ROAD\\nTOWARDS NORTH MA...\n",
       "125                     KEMPEGOWDA CIRCLE, NEAR K.G ROAD\n",
       "126    ಉಡುಪಿ  ತಾಲೂಕು ಭೈರಂಪಳ್ಳಿ  ಅಣ್ಣಾಲು ಕಂಚಿಗುಂಡು ಎಂಬ...\n",
       "127    ಕುಮಾರಪಟ್ಟಣಂ ನೆಲವಾಗಲು ರಸ್ತೇಯ ಮೇಲೆ ಹೆಚ್ ಪಿ ಎಫ್ ಪ...\n",
       "128    ತಕ್ಷೀರು ನಡೆದ ಸ್ಥಳವು ಉಡುಪಿ ಜಿಲ್ಲೆಯ ಕುಂದಾಪುರ ತಾಲ...\n",
       "129    Humnabad sedam ring road oppo: Tippu sultan co...\n",
       "130    infrount of dental college noubad gulbarga roa...\n",
       "131    ಸದರಿ ಸ್ಥಳವು ಶಿವಮೊಗ್ಗ ನಗರದ ಕೋಟೆ ಠಾಣೆ ವ್ಯಾಪ್ತಿಯ ...\n",
       "132    ಇಬ್ಬರು ಪಂಚರನ್ನು ಹಾಜರಪಡಿಸಿಕೊಂಡಿ ಗುನ್ನೆ ಜಾಗೆ ಪಂಚ...\n",
       "133    ಕೆ,ಎಸ್ ಆರ್ ಟಿಸಿ ಬಸ್ ನಿಲ್ದಾಣದ ಬಳಿ ಶ್ರೀರಂಗಪಟ್ಟಣ ...\n",
       "134    ನಂತರ ತನಿಖೆಯನ್ನು ಮುಂದುವರಿಸಿದ್ದು ಘಟನಾ ಸ್ಥಳಕ್ಕೆ ಹ...\n",
       "135                                  RATHABEEDI, GOKARNA\n",
       "136                                                    .\n",
       "137    ಸದರಿ ಜಾಗೆಯ ಪೂರ್ವಕ್ಕೆ 20’  ಅಂತರದಲ್ಲಿ ಡಾಂಬರ ರಸ್ತ...\n",
       "138              ರಾವೂರ ಗ್ರಾಮದ ದಾವಲಪಿರ ದರ್ಗಾದ ಹತ್ತಿರ ಇದೆ.\n",
       "139                   ಕೊಡಗು  ಇಂಟರ್ ನ್ಯಾಷನಲ್  ಹೋಟೇಲ್  ಬಳಿ\n",
       "140    ದಿನಾಂಕ : 08.03.2014 ರಂದು 14-45 ಗಂಟೆ ಸುಮಾರಿಗೆ ಹ...\n",
       "141    ಫಿರ್ಯಾದಿಯವರು ದಿನಾಂಕ:23.02.2014 ಬೆಳಿಗ್ಗೆ 8.45 ಗ...\n",
       "142                                                  YES\n",
       "143    ದಿನಾಂಕ;-11.12.2014 ರಂದುಸಂಜೆ 04.15 ಗಂಟೆಗೆ 05.00...\n",
       "144    ಸದರಿ ಜಾಗೆಯ ಪೂರ್ವಕ್ಕೆ 2’ ಅಂರದಲ್ಲಿ ಡಾಂಬರ ರಸ್ತೆಯ ...\n",
       "145    Bijapur-Gulburga NH-218 Near Moratagi Village ...\n",
       "146                                                 ....\n",
       "147                   ATTACHED MAHAZAR COPY IN CASE FILE\n",
       "148                             BNG-MGD ROAD, KADABAGERE\n",
       "149    ದಿನಾಂಕ:17.11.2015 ರಂದು ಹಿರಿಯೂರು ನಗರ ಪೊಲೀಸ್ ಠಾಣ...\n",
       "Name: Accident_Description, dtype: object"
      ]
     },
     "execution_count": 116,
     "metadata": {},
     "output_type": "execute_result"
    }
   ],
   "source": [
    "accidents['Accident_Description'][100:150]"
   ]
  },
  {
   "cell_type": "code",
   "execution_count": 132,
   "metadata": {},
   "outputs": [],
   "source": [
    "accidents_with_desc = accidents[accidents.apply(lambda x: len(str(x['Accident_Description']).split()) > 1, axis=1)]"
   ]
  },
  {
   "cell_type": "code",
   "execution_count": 144,
   "metadata": {},
   "outputs": [],
   "source": [
    "from inltk.inltk import get_embedding_vectors, get_sentence_encoding\n",
    "from inltk.inltk import setup"
   ]
  },
  {
   "cell_type": "code",
   "execution_count": 149,
   "metadata": {},
   "outputs": [],
   "source": [
    "#setup('kn')\n",
    "#setup('en')"
   ]
  },
  {
   "cell_type": "code",
   "execution_count": 153,
   "metadata": {
    "scrolled": true
   },
   "outputs": [
    {
     "name": "stdout",
     "output_type": "stream",
     "text": [
      "BELAVI LIMITS ON HUKKERI TO SHIRAHATTI B.K ROAD\n",
      ".....\n"
     ]
    },
    {
     "ename": "Exception",
     "evalue": "Language code should be one of ['bn', 'gu', 'hi', 'kn', 'ml', 'mr', 'ne', 'or', 'pa', 'sa', 'ta', 'ur'] and not en",
     "output_type": "error",
     "traceback": [
      "\u001b[0;31m---------------------------------------------------------------------------\u001b[0m",
      "\u001b[0;31mException\u001b[0m                                 Traceback (most recent call last)",
      "\u001b[0;32m<ipython-input-153-0b6319e31474>\u001b[0m in \u001b[0;36m<module>\u001b[0;34m()\u001b[0m\n\u001b[1;32m      9\u001b[0m         \u001b[0msent_emb\u001b[0m \u001b[0;34m=\u001b[0m \u001b[0mget_sentence_encoding\u001b[0m\u001b[0;34m(\u001b[0m\u001b[0msent\u001b[0m\u001b[0;34m,\u001b[0m \u001b[0;34m'kn'\u001b[0m\u001b[0;34m)\u001b[0m\u001b[0;34m\u001b[0m\u001b[0m\n\u001b[1;32m     10\u001b[0m     \u001b[0;32melse\u001b[0m\u001b[0;34m:\u001b[0m\u001b[0;34m\u001b[0m\u001b[0m\n\u001b[0;32m---> 11\u001b[0;31m         \u001b[0msent_emb\u001b[0m \u001b[0;34m=\u001b[0m \u001b[0mget_sentence_encoding\u001b[0m\u001b[0;34m(\u001b[0m\u001b[0msent\u001b[0m\u001b[0;34m,\u001b[0m \u001b[0;34m'en'\u001b[0m\u001b[0;34m)\u001b[0m\u001b[0;34m\u001b[0m\u001b[0m\n\u001b[0m\u001b[1;32m     12\u001b[0m     \u001b[0maccident_desc_sent_emb\u001b[0m\u001b[0;34m.\u001b[0m\u001b[0mappend\u001b[0m\u001b[0;34m(\u001b[0m\u001b[0msent_emb\u001b[0m\u001b[0;34m)\u001b[0m\u001b[0;34m\u001b[0m\u001b[0m\n",
      "\u001b[0;32m~/anaconda3/lib/python3.6/site-packages/inltk/inltk.py\u001b[0m in \u001b[0;36mget_sentence_encoding\u001b[0;34m(input, language_code)\u001b[0m\n\u001b[1;32m     97\u001b[0m \u001b[0;34m\u001b[0m\u001b[0m\n\u001b[1;32m     98\u001b[0m \u001b[0;32mdef\u001b[0m \u001b[0mget_sentence_encoding\u001b[0m\u001b[0;34m(\u001b[0m\u001b[0minput\u001b[0m\u001b[0;34m:\u001b[0m \u001b[0mstr\u001b[0m\u001b[0;34m,\u001b[0m \u001b[0mlanguage_code\u001b[0m\u001b[0;34m:\u001b[0m \u001b[0mstr\u001b[0m\u001b[0;34m)\u001b[0m\u001b[0;34m:\u001b[0m\u001b[0;34m\u001b[0m\u001b[0m\n\u001b[0;32m---> 99\u001b[0;31m     \u001b[0mcheck_input_language\u001b[0m\u001b[0;34m(\u001b[0m\u001b[0mlanguage_code\u001b[0m\u001b[0;34m)\u001b[0m\u001b[0;34m\u001b[0m\u001b[0m\n\u001b[0m\u001b[1;32m    100\u001b[0m     \u001b[0mtok\u001b[0m \u001b[0;34m=\u001b[0m \u001b[0mLanguageTokenizer\u001b[0m\u001b[0;34m(\u001b[0m\u001b[0mlanguage_code\u001b[0m\u001b[0;34m)\u001b[0m\u001b[0;34m\u001b[0m\u001b[0m\n\u001b[1;32m    101\u001b[0m     \u001b[0mtoken_ids\u001b[0m \u001b[0;34m=\u001b[0m \u001b[0mtok\u001b[0m\u001b[0;34m.\u001b[0m\u001b[0mnumericalize\u001b[0m\u001b[0;34m(\u001b[0m\u001b[0minput\u001b[0m\u001b[0;34m)\u001b[0m\u001b[0;34m\u001b[0m\u001b[0m\n",
      "\u001b[0;32m~/anaconda3/lib/python3.6/site-packages/inltk/inltk.py\u001b[0m in \u001b[0;36mcheck_input_language\u001b[0;34m(language_code)\u001b[0m\n\u001b[1;32m     28\u001b[0m \u001b[0;32mdef\u001b[0m \u001b[0mcheck_input_language\u001b[0m\u001b[0;34m(\u001b[0m\u001b[0mlanguage_code\u001b[0m\u001b[0;34m:\u001b[0m \u001b[0mstr\u001b[0m\u001b[0;34m)\u001b[0m\u001b[0;34m:\u001b[0m\u001b[0;34m\u001b[0m\u001b[0m\n\u001b[1;32m     29\u001b[0m     \u001b[0;32mif\u001b[0m \u001b[0mlanguage_code\u001b[0m \u001b[0;32mnot\u001b[0m \u001b[0;32min\u001b[0m \u001b[0mall_language_codes\u001b[0m\u001b[0;34m:\u001b[0m\u001b[0;34m\u001b[0m\u001b[0m\n\u001b[0;32m---> 30\u001b[0;31m         \u001b[0;32mraise\u001b[0m \u001b[0mException\u001b[0m\u001b[0;34m(\u001b[0m\u001b[0;34mf'Language code should be one of {all_language_codes} and not {language_code}'\u001b[0m\u001b[0;34m)\u001b[0m\u001b[0;34m\u001b[0m\u001b[0m\n\u001b[0m\u001b[1;32m     31\u001b[0m     \u001b[0;32mif\u001b[0m \u001b[0;32mnot\u001b[0m \u001b[0mverify_language\u001b[0m\u001b[0;34m(\u001b[0m\u001b[0mlanguage_code\u001b[0m\u001b[0;34m)\u001b[0m\u001b[0;34m:\u001b[0m\u001b[0;34m\u001b[0m\u001b[0m\n\u001b[1;32m     32\u001b[0m         raise Exception(f'You need to do setup for the **first time** for language of your choice so that '\n",
      "\u001b[0;31mException\u001b[0m: Language code should be one of ['bn', 'gu', 'hi', 'kn', 'ml', 'mr', 'ne', 'or', 'pa', 'sa', 'ta', 'ur'] and not en"
     ]
    }
   ],
   "source": [
    "accident_desc_sent_emb = []\n",
    "#for rec in accidents_with_desc['Accident_Description']:\n",
    "    #detect(rec) == 'kn'\n",
    "for rec in accidents_with_desc.iterrows():\n",
    "    sent = rec[1]['Accident_Description']\n",
    "    print(sent)\n",
    "    print(\".....\")\n",
    "    if  detect(sent) == 'kn':\n",
    "        sent_emb = get_sentence_encoding(sent, 'kn')\n",
    "    else:\n",
    "        sent_emb = get_sentence_encoding(sent, 'en')\n",
    "    accident_desc_sent_emb.append(sent_emb)"
   ]
  },
  {
   "cell_type": "code",
   "execution_count": null,
   "metadata": {},
   "outputs": [],
   "source": []
  }
 ],
 "metadata": {
  "kernelspec": {
   "display_name": "Python 3",
   "language": "python",
   "name": "python3"
  },
  "language_info": {
   "codemirror_mode": {
    "name": "ipython",
    "version": 3
   },
   "file_extension": ".py",
   "mimetype": "text/x-python",
   "name": "python",
   "nbconvert_exporter": "python",
   "pygments_lexer": "ipython3",
   "version": "3.6.5"
  }
 },
 "nbformat": 4,
 "nbformat_minor": 2
}
