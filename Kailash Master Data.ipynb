{
 "cells": [
  {
   "cell_type": "code",
   "execution_count": null,
   "metadata": {},
   "outputs": [],
   "source": [
    "import pprint as pp\n",
    "import pandas as pd"
   ]
  },
  {
   "cell_type": "code",
   "execution_count": null,
   "metadata": {},
   "outputs": [],
   "source": [
    "store -r full_dataset\n"
   ]
  },
  {
   "cell_type": "code",
   "execution_count": null,
   "metadata": {},
   "outputs": [],
   "source": [
    "store -r Master_data_dict"
   ]
  },
  {
   "cell_type": "code",
   "execution_count": null,
   "metadata": {},
   "outputs": [],
   "source": [
    "\n",
    "count=1\n",
    "for i in full_dataset:\n",
    "    print(count,i)\n",
    "    for j in full_dataset[i]:\n",
    "        pp.pprint(full_dataset[i][j].keys())\n",
    "        break\n",
    "    print(\"*****************************************************************\")\n",
    "    count+=1"
   ]
  },
  {
   "cell_type": "code",
   "execution_count": null,
   "metadata": {},
   "outputs": [],
   "source": [
    "TBL_TR_Person_Details\n",
    "\n",
    "Index(['Person_ID', 'Crime_No', 'Person_Name', 'Unit_ID', 'sex', 'Age', 'Qualification',\n",
    "       'Occupation_ID', 'UserID'],\n",
    "      dtype='object')"
   ]
  },
  {
   "cell_type": "code",
   "execution_count": null,
   "metadata": {},
   "outputs": [],
   "source": [
    "TR_Accident_Vehicle_Master\n",
    "Index(['Unit_ID', 'Registration_Number', 'Crime_No', 'Vehicle_Type',\n",
    "       'Vehicle_Vanoeuvre', 'Vehicle_Model', 'Vehicle_Color',\n",
    "       'Vehicle_Load', 'VehicleSeized', 'Fuel_Type', 'Seating_Capacity', 'Class_Of_Vehicle',\n",
    "       'IsPoliceVehicle', 'IsGov_Vehicle', 'UserID',\n",
    "       'Vehicle_Sub_Type'],\n",
    "      dtype='object')"
   ]
  },
  {
   "cell_type": "code",
   "execution_count": null,
   "metadata": {},
   "outputs": [],
   "source": [
    "Index(['Registration_Number', 'Crime_No', 'Person_ID', 'Metal_No',\n",
    "       'Injury_Type', 'Licence', 'Licence_Type', 'Licence_Number',\n",
    "       'Licence_Valid_Date', 'Vehicle_Authorised', 'DL_Last_renewed', 'Driver_Error',\n",
    "       'Alcohol_Drugs', 'Helmet', 'SeatBelt', 'Unit_ID', 'UserID'],\n",
    "      dtype='object')"
   ]
  },
  {
   "cell_type": "code",
   "execution_count": null,
   "metadata": {},
   "outputs": [],
   "source": [
    "full_dataset['TBL_TR_Person_Details']['TBL_TR_Person_Details']['Qualification'].value_counts()"
   ]
  },
  {
   "cell_type": "code",
   "execution_count": null,
   "metadata": {},
   "outputs": [],
   "source": [
    "full_dataset['Masters']['tbl_general_master'].loc[full_dataset['Masters']['tbl_general_master']['MID'] ==6575                        ]     "
   ]
  },
  {
   "cell_type": "code",
   "execution_count": null,
   "metadata": {},
   "outputs": [],
   "source": [
    "11 tbl_tr_accident_report\n",
    "Index(['Unit_ID', 'Crime_No', 'Accident_DateTime', 'Fatal_NonFatal',\n",
    "       'Accident_Classification', 'Severity', 'Collision_Type',\n",
    "       'Accident_Spot', 'Accident_Location', 'Accident_Zone',\n",
    "       'NoOfVehicle_Involved', 'Junction_Control', 'Road_Character',\n",
    "       'Road_Type', 'Road_Classification', 'Road_Width', 'Shoulder_Width',\n",
    "       'Seperation', 'Surface_Type', 'Surface_Condition', 'Road_Condition',\n",
    "       'weather', 'Location_Type', 'Main_Cause', 'Hit_Run', 'XY_Map',\n",
    "       'X_Value', 'AccidentLocation_Map', 'Collision_Diagram', 'Y_Value',\n",
    "       'Route', 'KM', 'HundredM', 'Node_Map', 'Node1', 'Node2',\n",
    "       'Accident_City', 'Accident_Road', \n",
    "        'SpeedLimit', 'Road_typeb', 'RoadJunction',\n",
    "       'Accident_spotb', 'PotHoles', 'SteepGradient', 'Footpath',\n",
    "       'FootBridgeSubway', 'ZebraCrossing', 'Collision_Typeb'],\n",
    "      dtype='object')"
   ]
  },
  {
   "cell_type": "code",
   "execution_count": null,
   "metadata": {},
   "outputs": [],
   "source": [
    "!ls"
   ]
  },
  {
   "cell_type": "code",
   "execution_count": null,
   "metadata": {},
   "outputs": [],
   "source": [
    "df=pd.read_csv(\"accidents_report.csv\",sep=',')"
   ]
  },
  {
   "cell_type": "code",
   "execution_count": null,
   "metadata": {},
   "outputs": [],
   "source": [
    "df.columns"
   ]
  },
  {
   "cell_type": "code",
   "execution_count": null,
   "metadata": {},
   "outputs": [],
   "source": [
    "df.shape"
   ]
  },
  {
   "cell_type": "code",
   "execution_count": null,
   "metadata": {},
   "outputs": [],
   "source": [
    "import pandas as pd\n",
    "import numpy as np\n",
    "from sklearn.feature_selection import SelectKBest\n",
    "from sklearn.feature_selection import chi2\n"
   ]
  },
  {
   "cell_type": "code",
   "execution_count": null,
   "metadata": {},
   "outputs": [],
   "source": [
    "acc_data = pd.read_csv(\"accident_cleaned.csv\",sep=',')\n",
    "  #target column i.e price range\n"
   ]
  },
  {
   "cell_type": "code",
   "execution_count": null,
   "metadata": {},
   "outputs": [],
   "source": []
  },
  {
   "cell_type": "code",
   "execution_count": null,
   "metadata": {},
   "outputs": [],
   "source": []
  },
  {
   "cell_type": "code",
   "execution_count": null,
   "metadata": {},
   "outputs": [],
   "source": []
  },
  {
   "cell_type": "code",
   "execution_count": null,
   "metadata": {},
   "outputs": [],
   "source": [
    "acc_data['uc'] = acc_data['Unit_ID'].map(str) + acc_data['Crime_No'].map(str)"
   ]
  },
  {
   "cell_type": "code",
   "execution_count": null,
   "metadata": {},
   "outputs": [],
   "source": [
    "acc_data.shape"
   ]
  },
  {
   "cell_type": "code",
   "execution_count": null,
   "metadata": {},
   "outputs": [],
   "source": [
    "accident_veicle_data['uc'].shape"
   ]
  },
  {
   "cell_type": "code",
   "execution_count": null,
   "metadata": {},
   "outputs": [],
   "source": [
    "avs = set(accident_veicle_data['uc'])"
   ]
  },
  {
   "cell_type": "code",
   "execution_count": null,
   "metadata": {},
   "outputs": [],
   "source": [
    "len(avs)"
   ]
  },
  {
   "cell_type": "code",
   "execution_count": null,
   "metadata": {},
   "outputs": [],
   "source": [
    "ac = set(acc_data['uc'])"
   ]
  },
  {
   "cell_type": "code",
   "execution_count": null,
   "metadata": {},
   "outputs": [],
   "source": [
    "len(ac)"
   ]
  },
  {
   "cell_type": "code",
   "execution_count": null,
   "metadata": {},
   "outputs": [],
   "source": [
    "for elem in avs:\n",
    "    ac.add(elem)"
   ]
  },
  {
   "cell_type": "code",
   "execution_count": null,
   "metadata": {},
   "outputs": [],
   "source": [
    "len(ac)"
   ]
  },
  {
   "cell_type": "code",
   "execution_count": null,
   "metadata": {},
   "outputs": [],
   "source": [
    "203478-193112"
   ]
  },
  {
   "cell_type": "code",
   "execution_count": null,
   "metadata": {},
   "outputs": [],
   "source": [
    "vehicle_master_df = Master_data_dict['TR_Accident_Vehicle_Master'].drop_duplicates(subset = ['Registration_Number'], keep='last')"
   ]
  },
  {
   "cell_type": "code",
   "execution_count": null,
   "metadata": {},
   "outputs": [],
   "source": [
    "vehicle_master_df.shape"
   ]
  },
  {
   "cell_type": "code",
   "execution_count": null,
   "metadata": {},
   "outputs": [],
   "source": [
    "vehicle_reg_df = Master_data_dict['TR_Accident_Vehicle'].drop_duplicates(subset = ['Registration_Number'], keep='last')"
   ]
  },
  {
   "cell_type": "code",
   "execution_count": null,
   "metadata": {},
   "outputs": [],
   "source": [
    "x = set(vehicle_reg_df['Registration_Number'])\n",
    "a = len(x)\n",
    "print(a)\n",
    "y = set(vehicle_master_df['Registration_Number'])\n",
    "b = len(y)\n",
    "print(b)\n",
    "for elem in y:\n",
    "    x.add(elem)\n",
    "    \n",
    "print(a-len(x))"
   ]
  },
  {
   "cell_type": "code",
   "execution_count": null,
   "metadata": {},
   "outputs": [],
   "source": [
    "vehicle_reg_num = vehicle_reg_df['Registration_Number']"
   ]
  },
  {
   "cell_type": "code",
   "execution_count": null,
   "metadata": {},
   "outputs": [],
   "source": [
    "vehicle_crime_num = vehicle_reg_df['Crime_No']"
   ]
  },
  {
   "cell_type": "code",
   "execution_count": null,
   "metadata": {},
   "outputs": [],
   "source": []
  },
  {
   "cell_type": "code",
   "execution_count": null,
   "metadata": {},
   "outputs": [],
   "source": [
    "vehicle_master_df.columns"
   ]
  },
  {
   "cell_type": "code",
   "execution_count": null,
   "metadata": {},
   "outputs": [],
   "source": [
    "#vehicle_master_df.set_index('Registration_Number', inplace=True)\n",
    "#vehicle_master_df.update(vehicle_reg_df.set_index('Registration_Number'))\n",
    "#vehicle_master_df.reset_index()"
   ]
  },
  {
   "cell_type": "code",
   "execution_count": null,
   "metadata": {},
   "outputs": [],
   "source": [
    "\n",
    "pd.concat([vehicle_master_df,vehicle_reg_df]).drop_duplicates(['Registration_Number','Crime_No'],keep='last')"
   ]
  },
  {
   "cell_type": "code",
   "execution_count": null,
   "metadata": {},
   "outputs": [],
   "source": [
    "#vehicle_master_df.Crime_No = vehicle_master_df.Crime_No.astype('Int64')\n",
    "#vehicle_master_df.dropna(subset =['Crime_No'], inplace = True)\n",
    "\n",
    "vehicle_master_df.Unit_ID = vehicle_master_df.Unit_ID.astype('Int64')\n"
   ]
  },
  {
   "cell_type": "code",
   "execution_count": null,
   "metadata": {},
   "outputs": [],
   "source": []
  },
  {
   "cell_type": "code",
   "execution_count": null,
   "metadata": {},
   "outputs": [],
   "source": [
    "vehicle_master_df['uc'] = vehicle_master_df['Unit_ID'].map(str) + vehicle_master_df['Crime_No'].map(str)"
   ]
  },
  {
   "cell_type": "code",
   "execution_count": null,
   "metadata": {},
   "outputs": [],
   "source": [
    "y = set(vehicle_master_df['uc'])\n",
    "b = len(y)"
   ]
  },
  {
   "cell_type": "code",
   "execution_count": null,
   "metadata": {},
   "outputs": [],
   "source": [
    "x = set(acc_data['uc'])\n",
    "a = len(x)\n",
    "print(a)\n",
    "print(b)\n",
    "for elem in y:\n",
    "    x.add(elem)\n",
    "    \n",
    "print(len(x))"
   ]
  },
  {
   "cell_type": "code",
   "execution_count": null,
   "metadata": {},
   "outputs": [],
   "source": []
  },
  {
   "cell_type": "code",
   "execution_count": null,
   "metadata": {},
   "outputs": [],
   "source": [
    "\n",
    "\n"
   ]
  },
  {
   "cell_type": "code",
   "execution_count": null,
   "metadata": {},
   "outputs": [],
   "source": [
    "vehicle_master_df.columns"
   ]
  },
  {
   "cell_type": "code",
   "execution_count": null,
   "metadata": {},
   "outputs": [],
   "source": []
  },
  {
   "cell_type": "code",
   "execution_count": null,
   "metadata": {},
   "outputs": [],
   "source": [
    "\n",
    "acc_data = pd.concat([acc_data, pd.DataFrame(columns = cols)])"
   ]
  },
  {
   "cell_type": "code",
   "execution_count": null,
   "metadata": {},
   "outputs": [],
   "source": [
    "cols = [ 'Vehicle_Type', 'Vehicle_Vanoeuvre',\n",
    "       'Vehicle_Model', 'Vehicle_Color', 'Vehicle_Load', 'VehicleSeized',\n",
    "       'Fuel_Type', 'Seating_Capacity', 'Class_Of_Vehicle', 'IsPoliceVehicle',\n",
    "       'IsGov_Vehicle']\n",
    "\n",
    " acc_data.loc[acc_data.uc.isin(vehicle_master_df.uc), cols] = vehicle_master_df[cols]"
   ]
  },
  {
   "cell_type": "code",
   "execution_count": null,
   "metadata": {},
   "outputs": [],
   "source": [
    "acc_data.columns"
   ]
  },
  {
   "cell_type": "code",
   "execution_count": null,
   "metadata": {},
   "outputs": [],
   "source": [
    "len(cols)"
   ]
  },
  {
   "cell_type": "code",
   "execution_count": null,
   "metadata": {},
   "outputs": [],
   "source": []
  },
  {
   "cell_type": "code",
   "execution_count": null,
   "metadata": {},
   "outputs": [],
   "source": []
  },
  {
   "cell_type": "code",
   "execution_count": null,
   "metadata": {},
   "outputs": [],
   "source": [
    "for uc in acc_data['uc']:\n",
    "    if():\n",
    "    print(uc)\n",
    "    break"
   ]
  },
  {
   "cell_type": "code",
   "execution_count": null,
   "metadata": {},
   "outputs": [],
   "source": [
    "#del vehicle_master_df['Unit_ID']\n",
    "del vehicle_master_df['Crime_No']\n",
    "del vehicle_master_df['UserID']\n"
   ]
  },
  {
   "cell_type": "code",
   "execution_count": null,
   "metadata": {},
   "outputs": [],
   "source": [
    "df3 = pd.merge(acc_data, vehicle_master_df, on= \"uc\", how='inner')"
   ]
  },
  {
   "cell_type": "code",
   "execution_count": null,
   "metadata": {},
   "outputs": [],
   "source": [
    "df3.columns"
   ]
  },
  {
   "cell_type": "code",
   "execution_count": null,
   "metadata": {},
   "outputs": [],
   "source": [
    "df3.to_csv('csv_file/accident_report_vehicle_merge.csv', sep= ',', encoding = 'utf-8' )"
   ]
  },
  {
   "cell_type": "code",
   "execution_count": null,
   "metadata": {},
   "outputs": [],
   "source": []
  }
 ],
 "metadata": {
  "kernelspec": {
   "display_name": "almondaiEnv",
   "language": "python",
   "name": "almondaienv"
  },
  "language_info": {
   "codemirror_mode": {
    "name": "ipython",
    "version": 3
   },
   "file_extension": ".py",
   "mimetype": "text/x-python",
   "name": "python",
   "nbconvert_exporter": "python",
   "pygments_lexer": "ipython3",
   "version": "3.6.5"
  }
 },
 "nbformat": 4,
 "nbformat_minor": 2
}
